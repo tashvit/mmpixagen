{
 "cells": [
  {
   "metadata": {},
   "cell_type": "markdown",
   "source": [
    "# Prepare data for sprite sheet generation (E1, E2) models\n",
    "\n"
   ],
   "id": "23a763d3aa7d9127"
  },
  {
   "metadata": {
    "ExecuteTime": {
     "end_time": "2024-08-18T18:15:37.861806Z",
     "start_time": "2024-08-18T18:15:36.618503Z"
    }
   },
   "cell_type": "code",
   "source": [
    "import os\n",
    "import glob\n",
    "import shutil\n",
    "\n",
    "from PIL import Image\n",
    "\n",
    "import common_functions as core\n",
    "\n",
    "FRAMES_DATA_PATH = core.get_path(core.E1.raw_data_dir)\n",
    "print(FRAMES_DATA_PATH)\n",
    "\n",
    "WALK_FRAME_COUNT = 8\n",
    "DIRECTIONS = [\"back\", \"front\", \"left\", \"right\"]\n",
    "\n",
    "INPUT_DATA = core.get_path(core.E1.prepared_data_dir, f\"input\")\n",
    "OUTPUT_DATA = core.get_path(core.E1.prepared_data_dir, f\"output\")\n",
    "COMBINED_DATA = core.get_path(core.E1.prepared_data_dir, f\"combined\")\n",
    "\n",
    "E2_PREPARED_DATA = core.get_path(core.E2.prepared_data_dir)\n",
    "\n",
    "# Folder names to store train, test, validation data\n",
    "split_folders = (\"train\", \"test\", \"val\")\n",
    "\n",
    "IMAGE_IDS = set()\n",
    "raw_images = glob.glob(f\"{FRAMES_DATA_PATH}/*.png\")\n",
    "for _img in raw_images:\n",
    "    _img_base = os.path.basename(_img)\n",
    "    _image_id = int(_img_base.split(\"_\")[0])\n",
    "    IMAGE_IDS.add(_image_id)\n",
    "IMAGE_IDS = sorted(IMAGE_IDS)\n",
    "IMAGE_COUNT = len(IMAGE_IDS)"
   ],
   "id": "12779c5b63c37431",
   "outputs": [
    {
     "name": "stdout",
     "output_type": "stream",
     "text": [
      "---------------- MPS GPU Detected --------------------\n",
      "/Users/tashvit/Documents/GitHub/mmpixagen/datasets/unprepared_data/input_e/walk/\n"
     ]
    }
   ],
   "execution_count": 1
  },
  {
   "metadata": {
    "ExecuteTime": {
     "end_time": "2024-08-18T18:15:37.869128Z",
     "start_time": "2024-08-18T18:15:37.863061Z"
    }
   },
   "cell_type": "code",
   "source": [
    "def get_image_pairs(image_id, raw_data_path, frame_count = WALK_FRAME_COUNT, directions = DIRECTIONS):\n",
    "    \"\"\"\n",
    "    Function to get input/output image pairs for given image_id\n",
    "    :param image_id: input image id\n",
    "    :param raw_data_path: where the raw images are stored\n",
    "    :param frame_count: frames per a walking sprite sheet\n",
    "    :param directions: walking directions\n",
    "    :returns: image pairs\n",
    "    \"\"\"\n",
    "    frames = []\n",
    "    for direction in directions:\n",
    "        for frame in range(1, frame_count):\n",
    "            prev_image_path = os.path.join(raw_data_path, f\"{image_id:04d}_{direction}_{frame - 1}.png\")\n",
    "            image_path = os.path.join(raw_data_path, f\"{image_id:04d}_{direction}_{frame}.png\")\n",
    "            frames.append((prev_image_path, image_path))\n",
    "    return frames\n",
    "\n",
    "def prepare_data(raw_data_path, model_inp_dir = INPUT_DATA, model_out_dir = OUTPUT_DATA, split = (0.8, 0.9, 1.0), image_count = IMAGE_COUNT, image_ids = IMAGE_IDS):\n",
    "    \"\"\"\n",
    "    Function to prepare data folders\n",
    "    :param raw_data_path: original images\n",
    "    :param model_inp_dir: folder for storing current frame of animation\n",
    "    :param model_out_dir: folder for storing next frame of animation -> target images (ground truth images)\n",
    "    :param split: split points for train, test, validation\n",
    "    :param image_count: number of images to prepare\n",
    "    :param image_ids: image ids\n",
    "    \"\"\"\n",
    "    for base_folder in [model_inp_dir, model_out_dir]:\n",
    "        for split_folder in split_folders:\n",
    "            os.makedirs(os.path.join(base_folder, split_folder), exist_ok=True)\n",
    "    # Get split point for train data (0 -> train_end)\n",
    "    train_end = int(image_count * split[0])\n",
    "    # Get split point for test data (train_end -> test_end)\n",
    "    # Validation data is from test_end -> end\n",
    "    test_end = int(image_count * split[1])\n",
    "    counter = 0\n",
    "    for image_id in image_ids:\n",
    "        # Select subdirectory for file based on index in for loop\n",
    "        subdir = \"train\"\n",
    "        if train_end < image_id < test_end:\n",
    "            subdir = \"test\"\n",
    "        elif image_id >= test_end:\n",
    "            subdir = \"val\"\n",
    "        pairs = get_image_pairs(image_id, raw_data_path)\n",
    "        for input_image, output_image in pairs:\n",
    "            shutil.copyfile(input_image, os.path.join(model_inp_dir, subdir, f\"{counter:05d}.png\"))\n",
    "            shutil.copyfile(output_image, os.path.join(model_out_dir, subdir, f\"{counter:05d}.png\"))\n",
    "            counter += 1\n",
    "            \n",
    "def prepare_data_e2(raw_data_path, sprites_data_path, split = 0.8, image_count = IMAGE_COUNT, image_ids = IMAGE_IDS):\n",
    "    split_folders_e2 = [\"train\", \"test\"]\n",
    "    for split_folder in split_folders_e2:\n",
    "        os.makedirs(os.path.join(sprites_data_path, split_folder), exist_ok=True)\n",
    "    test_split = int(image_count * split)\n",
    "    for idx, image_id in enumerate(image_ids):\n",
    "        folder = \"train\"\n",
    "        if idx >= test_split:\n",
    "            folder = \"test\"\n",
    "        frame = 0\n",
    "        image_folder = f\"{idx:04d}\"\n",
    "        target_folder = os.path.join(sprites_data_path, folder, image_folder)\n",
    "        os.makedirs(target_folder, exist_ok=True)\n",
    "        for direction in DIRECTIONS:\n",
    "            for image_num in range(8):\n",
    "                image = f\"{image_id:04d}_{direction}_{image_num}.png\"\n",
    "                image_path = os.path.join(raw_data_path, image)\n",
    "                # Convert image to 256x256 as required by fomm model\n",
    "                image = Image.open(image_path).convert('RGB').resize((256, 256), resample=Image.Resampling.NEAREST)\n",
    "                image.save(os.path.join(target_folder, f\"{frame:02d}.png\"))\n",
    "                frame += 1"
   ],
   "id": "5d457734efc58e7c",
   "outputs": [],
   "execution_count": 2
  },
  {
   "metadata": {
    "ExecuteTime": {
     "end_time": "2024-08-18T18:17:53.840693Z",
     "start_time": "2024-08-18T18:15:37.869984Z"
    }
   },
   "cell_type": "code",
   "source": [
    "prepare_data(FRAMES_DATA_PATH)\n",
    "prepare_data_e2(FRAMES_DATA_PATH, E2_PREPARED_DATA)\n",
    "\n",
    "# Combined input, output data folders for model B\n",
    "os.makedirs(COMBINED_DATA, exist_ok=True)\n",
    "core.create_combined_images(f\"--fold_A {INPUT_DATA} --fold_B {OUTPUT_DATA} --fold_AB {COMBINED_DATA} --no_multiprocessing\")"
   ],
   "id": "e8878b49cfb71e44",
   "outputs": [
    {
     "name": "stdout",
     "output_type": "stream",
     "text": [
      "----------------------------------------------------------\n",
      "python /Users/tashvit/Documents/GitHub/mmpixagen/thirdparty/pix2pix/datasets/combine_A_and_B.py --fold_A /Users/tashvit/Documents/GitHub/mmpixagen/datasets/model_e_data/input --fold_B /Users/tashvit/Documents/GitHub/mmpixagen/datasets/model_e_data/output --fold_AB /Users/tashvit/Documents/GitHub/mmpixagen/datasets/model_e_data/combined --no_multiprocessing\n",
      "[fold_A] =  /Users/tashvit/Documents/GitHub/mmpixagen/datasets/model_e_data/input\n",
      "[fold_B] =  /Users/tashvit/Documents/GitHub/mmpixagen/datasets/model_e_data/output\n",
      "[fold_AB] =  /Users/tashvit/Documents/GitHub/mmpixagen/datasets/model_e_data/combined\n",
      "[num_imgs] =  1000000\n",
      "[use_AB] =  False\n",
      "[no_multiprocessing] =  True\n",
      "split = test, use 1344/1344 images\n",
      "split = test, number of images = 1344\n",
      "split = train, use 6720/6720 images\n",
      "split = train, number of images = 6720\n",
      "split = val, use 28224/28224 images\n",
      "split = val, number of images = 28224\n"
     ]
    }
   ],
   "execution_count": 3
  },
  {
   "metadata": {
    "ExecuteTime": {
     "end_time": "2024-08-18T18:17:53.843793Z",
     "start_time": "2024-08-18T18:17:53.842204Z"
    }
   },
   "cell_type": "code",
   "source": "",
   "id": "370022ccff83e7f0",
   "outputs": [],
   "execution_count": 3
  }
 ],
 "metadata": {
  "kernelspec": {
   "display_name": "Python 3",
   "language": "python",
   "name": "python3"
  },
  "language_info": {
   "codemirror_mode": {
    "name": "ipython",
    "version": 2
   },
   "file_extension": ".py",
   "mimetype": "text/x-python",
   "name": "python",
   "nbconvert_exporter": "python",
   "pygments_lexer": "ipython2",
   "version": "2.7.6"
  }
 },
 "nbformat": 4,
 "nbformat_minor": 5
}
