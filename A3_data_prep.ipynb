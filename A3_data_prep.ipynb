{
 "cells": [
  {
   "metadata": {},
   "cell_type": "markdown",
   "source": "",
   "id": "8d011b188d0b8114"
  },
  {
   "metadata": {
    "ExecuteTime": {
     "end_time": "2024-07-20T00:02:23.638843Z",
     "start_time": "2024-07-20T00:02:23.635402Z"
    }
   },
   "cell_type": "code",
   "source": [
    "ROOT_DATA = \"input_a3\"\n",
    "TRANSFER_LEARNING_DATA = f\"{ROOT_DATA}/transfer_learning\"\n",
    "CHARACTER_DATA = f\"{ROOT_DATA}/characters\"\n",
    "\n",
    "TL_INPUT_DATA = f\"{ROOT_DATA}/tl_input\"\n",
    "TL_OUTPUT_DATA = f\"{ROOT_DATA}/tl_output\"\n",
    "TL_COMBINED_DATA = f\"{ROOT_DATA}/tl_combined\"\n",
    "\n",
    "PIX2PIX_INPUT_DATA = f\"{ROOT_DATA}/pix2pix_input\"\n",
    "PIX2PIX_OUTPUT_DATA = f\"{ROOT_DATA}/pix2pix_output\"\n",
    "PIX2PIX_COMBINED_DATA = f\"{ROOT_DATA}/pix2pix_combined\""
   ],
   "id": "32a3cfa72d00d450",
   "outputs": [],
   "execution_count": 1
  },
  {
   "metadata": {
    "ExecuteTime": {
     "end_time": "2024-07-20T00:02:23.803579Z",
     "start_time": "2024-07-20T00:02:23.639907Z"
    }
   },
   "cell_type": "code",
   "source": [
    "# get list of the files in transfer learning\n",
    "import os, glob, random\n",
    "import common_functions as core\n",
    "\n",
    "random.seed(187)\n",
    "\n",
    "transfer_learn_images = sorted(list(glob.glob(TRANSFER_LEARNING_DATA + \"/*.png\")))\n",
    "character_images = sorted(list(glob.glob(CHARACTER_DATA + \"/*.png\")))\n",
    "\n",
    "random.shuffle(transfer_learn_images)\n",
    "random.shuffle(character_images)\n",
    "\n",
    "split_folders = (\"train\", \"test\", \"val\")"
   ],
   "id": "cb862630e69e0041",
   "outputs": [],
   "execution_count": 2
  },
  {
   "metadata": {},
   "cell_type": "markdown",
   "source": "",
   "id": "32e853f27d0a1118"
  },
  {
   "metadata": {
    "ExecuteTime": {
     "end_time": "2024-07-20T00:02:23.812239Z",
     "start_time": "2024-07-20T00:02:23.806302Z"
    }
   },
   "cell_type": "code",
   "source": [
    "def prepare_data(input_images, model_inp_dir, model_out_dir, split = (0.8, 0.9, 1.0)):\n",
    "    counter = 0\n",
    "    train_end = int(len(input_images) * split[0])\n",
    "    test_end = int(len(input_images) * split[1])\n",
    "    sketch_per_img = 3\n",
    "    for image in input_images:\n",
    "        magenta_bg_image = core.pil_to_opencv(core.load_64x64_with_magenta_bg(image))\n",
    "        for sketch in range(1, sketch_per_img + 1):\n",
    "            sketch_image = core.create_sketch(magenta_bg_image, levels=sketch, magenta_bg=True)\n",
    "            filename = f\"{counter:05}.png\"\n",
    "            current_split_folder = split_folders[0]\n",
    "            if train_end < counter < test_end:\n",
    "                current_split_folder = split_folders[1]\n",
    "            elif counter >= test_end:\n",
    "                current_split_folder = split_folders[2]\n",
    "            # ----------- Write to model_input and output directories -----------\n",
    "            model_input_path = os.path.join(model_inp_dir, current_split_folder)\n",
    "            os.makedirs(model_input_path, exist_ok=True)\n",
    "            core.write_image(sketch_image, os.path.join(model_input_path, filename))\n",
    "            \n",
    "            model_out_path = os.path.join(model_out_dir, current_split_folder)\n",
    "            os.makedirs(model_out_path, exist_ok=True)\n",
    "            core.write_image(magenta_bg_image, os.path.join(model_out_path, filename))\n",
    "            \n",
    "            counter += 1"
   ],
   "id": "43fff89343792404",
   "outputs": [],
   "execution_count": 3
  },
  {
   "metadata": {
    "ExecuteTime": {
     "end_time": "2024-07-20T00:02:31.723731Z",
     "start_time": "2024-07-20T00:02:23.814576Z"
    }
   },
   "cell_type": "code",
   "source": "prepare_data(transfer_learn_images, TL_INPUT_DATA, TL_OUTPUT_DATA)",
   "id": "a3c70de128ebc7d9",
   "outputs": [],
   "execution_count": 4
  },
  {
   "metadata": {
    "ExecuteTime": {
     "end_time": "2024-07-20T00:02:33.269091Z",
     "start_time": "2024-07-20T00:02:31.724833Z"
    }
   },
   "cell_type": "code",
   "source": "prepare_data(character_images, PIX2PIX_INPUT_DATA, PIX2PIX_OUTPUT_DATA)",
   "id": "4d20734b15a1226b",
   "outputs": [],
   "execution_count": 5
  },
  {
   "metadata": {
    "ExecuteTime": {
     "end_time": "2024-07-20T00:02:33.270861Z",
     "start_time": "2024-07-20T00:02:33.269616Z"
    }
   },
   "cell_type": "code",
   "source": "",
   "id": "5ab67021c70d544d",
   "outputs": [],
   "execution_count": 5
  },
  {
   "metadata": {
    "ExecuteTime": {
     "end_time": "2024-07-20T00:02:37.859309Z",
     "start_time": "2024-07-20T00:02:33.271285Z"
    }
   },
   "cell_type": "code",
   "source": [
    "os.makedirs(TL_COMBINED_DATA, exist_ok=True)\n",
    "!python ./pix2pix/datasets/combine_A_and_B.py --fold_A ./input_a3/tl_input --fold_B ./input_a3/tl_output --fold_AB ./input_a3/tl_combined --no_multiprocessing"
   ],
   "id": "ed0c36118eb41f0d",
   "outputs": [
    {
     "name": "stdout",
     "output_type": "stream",
     "text": [
      "[fold_A] =  ./input_a3/tl_input\r\n",
      "[fold_B] =  ./input_a3/tl_output\r\n",
      "[fold_AB] =  ./input_a3/tl_combined\r\n",
      "[num_imgs] =  1000000\r\n",
      "[use_AB] =  False\r\n",
      "[no_multiprocessing] =  True\r\n",
      "split = test, use 338/338 images\r\n",
      "split = test, number of images = 338\r\n",
      "split = train, use 2709/2709 images\r\n",
      "split = train, number of images = 2709\r\n",
      "split = val, use 7111/7111 images\r\n",
      "split = val, number of images = 7111\r\n"
     ]
    }
   ],
   "execution_count": 6
  },
  {
   "metadata": {
    "ExecuteTime": {
     "end_time": "2024-07-20T00:02:39.256562Z",
     "start_time": "2024-07-20T00:02:37.860369Z"
    }
   },
   "cell_type": "code",
   "source": [
    "os.makedirs(PIX2PIX_COMBINED_DATA, exist_ok=True)\n",
    "!python ./pix2pix/datasets/combine_A_and_B.py --fold_A ./input_a3/pix2pix_input --fold_B ./input_a3/pix2pix_output --fold_AB ./input_a3/pix2pix_combined --no_multiprocessing "
   ],
   "id": "f571453387f91c21",
   "outputs": [
    {
     "name": "stdout",
     "output_type": "stream",
     "text": [
      "[fold_A] =  ./input_a3/pix2pix_input\r\n",
      "[fold_B] =  ./input_a3/pix2pix_output\r\n",
      "[fold_AB] =  ./input_a3/pix2pix_combined\r\n",
      "[num_imgs] =  1000000\r\n",
      "[use_AB] =  False\r\n",
      "[no_multiprocessing] =  True\r\n",
      "split = test, use 90/90 images\r\n",
      "split = test, number of images = 90\r\n",
      "split = train, use 730/730 images\r\n",
      "split = train, number of images = 730\r\n",
      "split = val, use 1916/1916 images\r\n",
      "split = val, number of images = 1916\r\n"
     ]
    }
   ],
   "execution_count": 7
  },
  {
   "metadata": {
    "ExecuteTime": {
     "end_time": "2024-07-20T00:02:39.259820Z",
     "start_time": "2024-07-20T00:02:39.257974Z"
    }
   },
   "cell_type": "code",
   "source": "",
   "id": "8a44f344b09e6b7e",
   "outputs": [],
   "execution_count": 7
  }
 ],
 "metadata": {
  "kernelspec": {
   "display_name": "Python 3",
   "language": "python",
   "name": "python3"
  },
  "language_info": {
   "codemirror_mode": {
    "name": "ipython",
    "version": 2
   },
   "file_extension": ".py",
   "mimetype": "text/x-python",
   "name": "python",
   "nbconvert_exporter": "python",
   "pygments_lexer": "ipython2",
   "version": "2.7.6"
  }
 },
 "nbformat": 4,
 "nbformat_minor": 5
}
