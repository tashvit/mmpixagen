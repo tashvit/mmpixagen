{
 "cells": [
  {
   "metadata": {},
   "cell_type": "markdown",
   "source": [
    "## Data preparation - directional models\n",
    "\n",
    "Data for the models is from the Tiny Hero dataset\n",
    "Source: https://www.kaggle.com/datasets/volodymyrpivoshenko/pixel-characters-dataset\n",
    "\n",
    "The author's models use data from the 'input_bcd' folder.\n",
    "Folders inside 'input_bcd' folder:\n",
    "* 0 - Back\n",
    "* 1 - Left\n",
    "* 2 - Front\n",
    "* 3 - Right\n",
    "\n",
    "Each pixel art character will have the same file number inside each folder\n",
    "\n",
    "Eg: A character named '12.png' in the '0' folder (Back-facing) will also be named '12.png' in the Left-facing, Front-facing and Right-facing folders\n",
    "\n",
    "### Directional models\n",
    "\n",
    "* B - Front(2) to Right(3)\n",
    "* C - Front(2) to Back(0)\n",
    "* D - Right(3) to Left(1)\n"
   ],
   "id": "8369b5d9a3eaeba7"
  },
  {
   "metadata": {
    "ExecuteTime": {
     "end_time": "2024-07-15T21:24:53.993581Z",
     "start_time": "2024-07-15T21:24:53.987399Z"
    }
   },
   "cell_type": "code",
   "source": [
    "import os\n",
    "import shutil\n",
    "from common_functions import turn_magenta\n",
    "\n",
    "# Variable names for data folders from 'input_bcd' folder\n",
    "FRONT_FOLDER = \"input_bcd/2\"\n",
    "BACK_FOLDER = \"input_bcd/0\"\n",
    "LEFT_FOLDER = \"input_bcd/1\"\n",
    "RIGHT_FOLDER = \"input_bcd/3\""
   ],
   "id": "418398329d17c356",
   "outputs": [],
   "execution_count": 6
  },
  {
   "metadata": {},
   "cell_type": "markdown",
   "source": "## Folder structure for data folders",
   "id": "62c4b59416fa808f"
  },
  {
   "metadata": {},
   "cell_type": "markdown",
   "source": [
    "```\n",
    "Folder structure\n",
    "\n",
    "model_b_data\n",
    "  -- input (from FRONT_FOLDER copy files)\n",
    "     -- train\n",
    "     -- test\n",
    "     -- val\n",
    "  -- output (from RIGHT_FOLDER copy files)\n",
    "     -- train\n",
    "     -- test\n",
    "     -- val\n",
    "  ```"
   ],
   "id": "18fb556a7b9a122b"
  },
  {
   "metadata": {
    "ExecuteTime": {
     "end_time": "2024-07-15T21:24:53.998144Z",
     "start_time": "2024-07-15T21:24:53.995412Z"
    }
   },
   "cell_type": "code",
   "source": [
    "# For loops to create 'input' and 'output' data folders in the\n",
    "    # 'model_b_data', 'model_c_data', 'model_d_data' directories\n",
    "for model_directory in ['b', 'c', 'd']:\n",
    "    for subdirectory in ['input', 'output']:\n",
    "        os.makedirs(f\"./model_{model_directory}_data/{subdirectory}/\", exist_ok=True)"
   ],
   "id": "bb79e77d9afb7cbc",
   "outputs": [],
   "execution_count": 7
  },
  {
   "metadata": {},
   "cell_type": "markdown",
   "source": [
    "### Model B data\n",
    "\n",
    "• 'input' files for model_b_data are in FRONT_FOLDER (folder 2)\n",
    "\n",
    "• 'output' files for model_b_data are in RIGHT_FOLDER (folder 3)\n",
    "\n",
    "### Model C data\n",
    "\n",
    "• 'input' files for model_c_data are in FRONT_FOLDER (folder 2)\n",
    "\n",
    "• 'output' files for model_c_data are in BACK_FOLDER (folder 0)\n",
    "\n",
    "### Model D data\n",
    "\n",
    "• 'input' files for model_d_data are in RIGHT_FOLDER (folder 3)\n",
    "\n",
    "• 'output' files for model_d_data are in LEFT_FOLDER (folder 1)"
   ],
   "id": "c0b754876f20dde2"
  },
  {
   "metadata": {
    "ExecuteTime": {
     "end_time": "2024-07-15T21:24:54.002702Z",
     "start_time": "2024-07-15T21:24:53.999089Z"
    }
   },
   "cell_type": "code",
   "source": [
    "def create_model_data(model_input_data_folder, model_output_data_folder, destination_directory):\n",
    "    \"\"\"\n",
    "    Function to create data for a directional model\n",
    "    :param model_input_data_folder: example: FRONT_FOLDER\n",
    "    :param model_output_data_folder: example: RIGHT_FOLDER\n",
    "    :param destination_directory: example: 'model_b_data'\n",
    "    \"\"\"\n",
    "    files = sorted(os.listdir(model_input_data_folder))\n",
    "    file_count = len(files)\n",
    "    # from 0                - test_split_index  -->  train data\n",
    "    # from test_split_index - val_split_index   -->  test data\n",
    "    # from val_split_index  - end               -->  validation data\n",
    "    test_split_index = int(file_count * 0.79)\n",
    "    val_split_index = int(file_count * 0.9)\n",
    "    \n",
    "    # Create subdirectories for train, test, validation\n",
    "    for subdir in ['train', 'test', 'val']:\n",
    "        os.makedirs(f\"{destination_directory}/input/{subdir}/\", exist_ok=True)\n",
    "        os.makedirs(f\"{destination_directory}/output/{subdir}/\", exist_ok=True)\n",
    "        \n",
    "    # For loop to create data for models\n",
    "    for idx, file_name in enumerate(files):\n",
    "        # Select subdirectory for file based on index in for loop\n",
    "        subdir = \"train\"\n",
    "        if test_split_index < idx < val_split_index:\n",
    "            subdir = \"test\"\n",
    "        elif idx >= val_split_index:\n",
    "            subdir = \"val\"\n",
    "        \n",
    "        # File paths for 'input' folder files for model data folder\n",
    "        src_file_path_input = os.path.join(model_input_data_folder, file_name)\n",
    "        dest_file_path_input = os.path.join(f'{destination_directory}/input/{subdir}', file_name)\n",
    "        \n",
    "        # File paths for 'output' folder files for model data folder\n",
    "        src_file_path_output = os.path.join(model_output_data_folder, file_name)\n",
    "        dest_file_path_output = os.path.join(f'{destination_directory}/output/{subdir}', file_name)\n",
    "        \n",
    "        # Add magenta backgrounds to images before saving them\n",
    "        turn_magenta(src_file_path_input, dest_file_path_input)\n",
    "        turn_magenta(src_file_path_output, dest_file_path_output)\n"
   ],
   "id": "5aa6ebb1802a3a16",
   "outputs": [],
   "execution_count": 8
  },
  {
   "metadata": {
    "ExecuteTime": {
     "end_time": "2024-07-15T21:24:57.652311Z",
     "start_time": "2024-07-15T21:24:54.004825Z"
    }
   },
   "cell_type": "code",
   "source": [
    "# Creating data for model B\n",
    "create_model_data(FRONT_FOLDER, RIGHT_FOLDER, 'model_b_data')\n",
    "\n",
    "# Creating data for model C\n",
    "create_model_data(FRONT_FOLDER, BACK_FOLDER, 'model_c_data')\n",
    "\n",
    "# Creating data for model D\n",
    "create_model_data(RIGHT_FOLDER, LEFT_FOLDER, 'model_d_data')"
   ],
   "id": "15bc9b3b8db54cb9",
   "outputs": [],
   "execution_count": 9
  },
  {
   "metadata": {},
   "cell_type": "markdown",
   "source": "Combine input, output data folders of a model to one folder so it can be used for Pix2Pix training",
   "id": "166acebef8c7c2e4"
  },
  {
   "metadata": {
    "ExecuteTime": {
     "end_time": "2024-07-15T21:24:59.920858Z",
     "start_time": "2024-07-15T21:24:57.653312Z"
    }
   },
   "cell_type": "code",
   "source": [
    "# Combined input, output data folders for model B\n",
    "os.makedirs(\"./model_b_data/combined/\", exist_ok=True)\n",
    "!python ./pix2pix/datasets/combine_A_and_B.py --fold_A ./model_b_data/input --fold_B ./model_b_data/output --fold_AB ./model_b_data/combined --no_multiprocessing\n",
    "\n",
    "# Combined input, output data folders for model C\n",
    "os.makedirs(\"./model_c_data/combined/\", exist_ok=True)\n",
    "!python ./pix2pix/datasets/combine_A_and_B.py --fold_A ./model_c_data/input --fold_B ./model_c_data/output --fold_AB ./model_c_data/combined --no_multiprocessing\n",
    "\n",
    "# Combined input, output data folders for model D\n",
    "os.makedirs(\"./model_d_data/combined/\", exist_ok=True)\n",
    "!python ./pix2pix/datasets/combine_A_and_B.py --fold_A ./model_d_data/input --fold_B ./model_d_data/output --fold_AB ./model_d_data/combined --no_multiprocessing"
   ],
   "id": "b8cd677ceb907a0",
   "outputs": [
    {
     "name": "stdout",
     "output_type": "stream",
     "text": [
      "[fold_A] =  ./model_b_data/input\r\n",
      "[fold_B] =  ./model_b_data/output\r\n",
      "[fold_AB] =  ./model_b_data/combined\r\n",
      "[num_imgs] =  1000000\r\n",
      "[use_AB] =  False\r\n",
      "[no_multiprocessing] =  True\r\n",
      "split = test, use 99/99 images\r\n",
      "split = test, number of images = 99\r\n",
      "split = train, use 721/721 images\r\n",
      "split = train, number of images = 721\r\n",
      "split = val, use 92/92 images\r\n",
      "split = val, number of images = 92\r\n",
      "[fold_A] =  ./model_c_data/input\r\n",
      "[fold_B] =  ./model_c_data/output\r\n",
      "[fold_AB] =  ./model_c_data/combined\r\n",
      "[num_imgs] =  1000000\r\n",
      "[use_AB] =  False\r\n",
      "[no_multiprocessing] =  True\r\n",
      "split = test, use 99/99 images\r\n",
      "split = test, number of images = 99\r\n",
      "split = train, use 721/721 images\r\n",
      "split = train, number of images = 721\r\n",
      "split = val, use 92/92 images\r\n",
      "split = val, number of images = 92\r\n",
      "[fold_A] =  ./model_d_data/input\r\n",
      "[fold_B] =  ./model_d_data/output\r\n",
      "[fold_AB] =  ./model_d_data/combined\r\n",
      "[num_imgs] =  1000000\r\n",
      "[use_AB] =  False\r\n",
      "[no_multiprocessing] =  True\r\n",
      "split = test, use 99/99 images\r\n",
      "split = test, number of images = 99\r\n",
      "split = train, use 721/721 images\r\n",
      "split = train, number of images = 721\r\n",
      "split = val, use 92/92 images\r\n",
      "split = val, number of images = 92\r\n"
     ]
    }
   ],
   "execution_count": 10
  },
  {
   "metadata": {
    "ExecuteTime": {
     "end_time": "2024-07-15T21:24:59.923366Z",
     "start_time": "2024-07-15T21:24:59.921646Z"
    }
   },
   "cell_type": "code",
   "source": "",
   "id": "dd418f47bccfd68c",
   "outputs": [],
   "execution_count": 10
  }
 ],
 "metadata": {
  "kernelspec": {
   "display_name": "Python 3",
   "language": "python",
   "name": "python3"
  },
  "language_info": {
   "codemirror_mode": {
    "name": "ipython",
    "version": 2
   },
   "file_extension": ".py",
   "mimetype": "text/x-python",
   "name": "python",
   "nbconvert_exporter": "python",
   "pygments_lexer": "ipython2",
   "version": "2.7.6"
  }
 },
 "nbformat": 4,
 "nbformat_minor": 5
}
