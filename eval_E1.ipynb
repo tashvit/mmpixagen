{
 "cells": [
  {
   "metadata": {},
   "cell_type": "markdown",
   "source": [
    "# Evaluate E1 models\n",
    "\n",
    "Based on pix2pix/test.py and eval_B1_C1_D1 notebook"
   ],
   "id": "8d37900a5a4241c5"
  },
  {
   "metadata": {
    "ExecuteTime": {
     "end_time": "2024-08-11T09:11:47.289203Z",
     "start_time": "2024-08-11T09:11:39.693684Z"
    }
   },
   "cell_type": "code",
   "source": [
    "from thirdparty.pix2pix.options.test_options import TestOptions\n",
    "from thirdparty.pix2pix.data import create_dataset\n",
    "from thirdparty.pix2pix.models import create_model\n",
    "from thirdparty.pix2pix.util import util\n",
    "from tqdm import tqdm\n",
    "import torch\n",
    "import numpy as np\n",
    "from torchmetrics.image.fid import FrechetInceptionDistance\n",
    "from torchmetrics.image import StructuralSimilarityIndexMeasure\n",
    "import IPython.display as display\n",
    "from IPython.display import HTML\n",
    "from PIL import Image\n",
    "\n",
    "import common_functions as core"
   ],
   "id": "e2eb6ab9b3692e9e",
   "outputs": [],
   "execution_count": 1
  },
  {
   "metadata": {
    "ExecuteTime": {
     "end_time": "2024-08-11T09:11:47.292364Z",
     "start_time": "2024-08-11T09:11:47.290223Z"
    }
   },
   "cell_type": "code",
   "source": [
    "# Model information\n",
    "\n",
    "model_direction = core.E1.direction\n",
    "\n",
    "e1_model_name = core.E1.name\n",
    "e1_merged_dataset_location = core.get_path(core.E1.prepared_data_dir, \"combined\")\n",
    "\n",
    "model_type = core.E1.model_type"
   ],
   "id": "b97f5c98397feb10",
   "outputs": [],
   "execution_count": 2
  },
  {
   "metadata": {
    "ExecuteTime": {
     "end_time": "2024-08-11T09:11:47.295769Z",
     "start_time": "2024-08-11T09:11:47.293095Z"
    }
   },
   "cell_type": "code",
   "source": [
    "def load_model_dataset(merged_dataset_location, model_name, phase=\"test\"):\n",
    "    \"\"\"\n",
    "    Function to load a model and dataset\n",
    "    :param merged_dataset_location: location of 'combined' dataset for model\n",
    "    :param model_name: name of model\n",
    "    :param phase: load 'test'/'train'/'val' data\n",
    "    :return: loaded model and dataset to use for evaluation\n",
    "    \"\"\"\n",
    "    # Arguments for Pix2Pix TestOptions\n",
    "    args = [\"--dataroot\", merged_dataset_location, \"--name\", model_name, \"--model\", model_type, \"--direction\", model_direction, \"--phase\", phase, \"--netG\", \"unet_64\", \"--netD\", \"pixel\", \"--load_size\", \"64\", \"--crop_size\", \"64\", \"--display_winsize\", \"64\"]\n",
    "    \n",
    "    # Parsed test options\n",
    "    opt = TestOptions().parse(args)\n",
    "    opt.num_threads = 0\n",
    "    opt.batch_size = 1\n",
    "    opt.serial_batches = True\n",
    "    opt.no_flip = True\n",
    "    opt.display_id = -1\n",
    "    dataset = create_dataset(opt)\n",
    "    model = create_model(opt)\n",
    "    model.setup(opt)\n",
    "    \n",
    "    return model, dataset"
   ],
   "id": "6b6997b15341623",
   "outputs": [],
   "execution_count": 3
  },
  {
   "metadata": {
    "ExecuteTime": {
     "end_time": "2024-08-11T09:11:47.299030Z",
     "start_time": "2024-08-11T09:11:47.296555Z"
    }
   },
   "cell_type": "code",
   "source": [
    "def show_image(img):\n",
    "    \"\"\"\n",
    "    Function to display an image\n",
    "    :param img: tensor\n",
    "    \"\"\"\n",
    "    # Convert tensor to image\n",
    "    im = util.tensor2im(img)\n",
    "    im = Image.fromarray(im)\n",
    "    # Display image in notebook\n",
    "    display.display(im)\n",
    "\n",
    "def show_html(html):\n",
    "    \"\"\"\n",
    "    Function to display HTML string in notebook\n",
    "    :param html: html string\n",
    "    \"\"\"\n",
    "    display.display(HTML(html))\n",
    "\n",
    "def image_to_rgb(img):\n",
    "    \"\"\"\n",
    "    Function to convert an image to RGB\n",
    "    Code derived from Pix2Pix code\n",
    "    :param img: tensor with float values to represent image\n",
    "    :return: tensor with RGB integer values\n",
    "    \"\"\"\n",
    "    n = img[0].cpu().float().numpy()\n",
    "    converted = ((n + 1) / 2.0 * 255.0).astype(np.uint8)\n",
    "    return torch.from_numpy(converted)"
   ],
   "id": "306f38c2e90bd257",
   "outputs": [],
   "execution_count": 4
  },
  {
   "metadata": {
    "ExecuteTime": {
     "end_time": "2024-08-11T09:11:47.304193Z",
     "start_time": "2024-08-11T09:11:47.300638Z"
    }
   },
   "cell_type": "code",
   "source": [
    "def evaluate_model(model_name, model, dataset, phase=\"test\", limit=None):\n",
    "    \"\"\"\n",
    "    Function to evaluate a model\n",
    "    :param model_name: name of model\n",
    "    :param model: model object\n",
    "    :param dataset: dataset object\n",
    "    :param phase: test/train/val\n",
    "    :param limit: number of images to evaluate (if None, evaluate all images)\n",
    "    \"\"\"\n",
    "    # Metrics objects for evaluation\n",
    "    fid = FrechetInceptionDistance(feature=64, input_img_size=(3, 64, 64))\n",
    "    ssim = StructuralSimilarityIndexMeasure(data_range=1.0)\n",
    "    \n",
    "    ground_truth_data = []\n",
    "    generated_data = []\n",
    "    \n",
    "    # Display header in notebook\n",
    "    show_html(f\"<h3>Evaluating {model_name} model with {phase} dataset</h3>\")\n",
    "    \n",
    "    # For loop to test model and get ground truth images and generated images\n",
    "    # Derived from Pix2Pix code\n",
    "    # FID: https://lightning.ai/docs/torchmetrics/stable/image/frechet_inception_distance.html\n",
    "    # SSIM: https://lightning.ai/docs/torchmetrics/stable/image/structural_similarity.html\n",
    "    for i, datum in enumerate(tqdm(dataset)):\n",
    "        model.set_input(datum)\n",
    "        # Pix2Pix model testing\n",
    "        model.test()\n",
    "        visuals = model.get_current_visuals()\n",
    "        generated = visuals['fake_B']\n",
    "        ground_truth = visuals['real_B']\n",
    "        \n",
    "        # Show first image\n",
    "        if i == 0:\n",
    "            show_html(\"<b>Input Sketch</b>\")\n",
    "            show_image(visuals['real_A'])\n",
    "            show_html(\"<b>Generated Image</b>\")\n",
    "            show_image(generated)\n",
    "            show_html(\"<b>Ground Truth Image</b>\")\n",
    "            show_image(ground_truth)\n",
    "    \n",
    "        # Add fake and real images to arrays\n",
    "        generated_data.append(image_to_rgb(generated))\n",
    "        ground_truth_data.append(image_to_rgb(ground_truth))\n",
    "        if limit is not None and i + 1 >= limit:\n",
    "            print(\"Limit reached\")\n",
    "            break\n",
    "    \n",
    "    # Pass in real and generated images to metrics objects\n",
    "    fid.update(torch.stack(ground_truth_data), real=True)\n",
    "    fid.update(torch.stack(generated_data), real=False)\n",
    "    ssim.update(torch.stack(generated_data).float() / 255.0, torch.stack(ground_truth_data).float() / 255.0)\n",
    "    \n",
    "    # Calculating FID and SSIM scores and display them\n",
    "    fid_score = fid.compute().item()\n",
    "    ssim_score = ssim.compute().item()\n",
    "    show_html(f\"<span style='color: orange'><b>FID score = {fid_score}</b></span>\")\n",
    "    show_html(f\"<span style='color: cyan'><b>SSIM score = {ssim_score}</b></span>\")"
   ],
   "id": "cc62b403fb035072",
   "outputs": [],
   "execution_count": 5
  },
  {
   "metadata": {},
   "cell_type": "markdown",
   "source": "# E1 evaluation",
   "id": "7639617bbc7a6ff7"
  },
  {
   "metadata": {
    "ExecuteTime": {
     "end_time": "2024-08-11T09:13:03.641297Z",
     "start_time": "2024-08-11T09:11:47.305187Z"
    }
   },
   "cell_type": "code",
   "source": [
    "# -------- Evaluate E1 with test dataset ------------\n",
    "\n",
    "model, dataset = load_model_dataset(e1_merged_dataset_location, e1_model_name, phase=\"test\")\n",
    "evaluate_model('E1', model, dataset, phase=\"test\")"
   ],
   "id": "7a99662954206b92",
   "outputs": [
    {
     "name": "stdout",
     "output_type": "stream",
     "text": [
      "----------------- Options ---------------\n",
      "             aspect_ratio: 1.0                           \n",
      "               batch_size: 1                             \n",
      "          checkpoints_dir: ./checkpoints                 \n",
      "                crop_size: 64                            \t[default: 256]\n",
      "                 dataroot: /Users/tashvit/Documents/GitHub/mmpixagen/datasets/model_e_data/combined/\t[default: None]\n",
      "             dataset_mode: aligned                       \n",
      "                direction: AtoB                          \n",
      "          display_winsize: 64                            \t[default: 256]\n",
      "                    epoch: latest                        \n",
      "                     eval: False                         \n",
      "                  gpu_ids: 0                             \n",
      "                init_gain: 0.02                          \n",
      "                init_type: normal                        \n",
      "                 input_nc: 3                             \n",
      "                  isTrain: False                         \t[default: None]\n",
      "                load_iter: 0                             \t[default: 0]\n",
      "                load_size: 64                            \t[default: 256]\n",
      "         max_dataset_size: inf                           \n",
      "                    model: pix2pix                       \t[default: test]\n",
      "               n_layers_D: 3                             \n",
      "                     name: sprite_E1                     \t[default: experiment_name]\n",
      "                      ndf: 64                            \n",
      "                     netD: pixel                         \t[default: basic]\n",
      "                     netG: unet_64                       \t[default: unet_256]\n",
      "                      ngf: 64                            \n",
      "               no_dropout: False                         \n",
      "                  no_flip: False                         \n",
      "                     norm: batch                         \n",
      "                 num_test: 50                            \n",
      "              num_threads: 4                             \n",
      "                output_nc: 3                             \n",
      "                    phase: test                          \n",
      "               preprocess: resize_and_crop               \n",
      "              results_dir: ./results/                    \n",
      "           serial_batches: False                         \n",
      "                   suffix:                               \n",
      "                use_wandb: False                         \n",
      "                  verbose: False                         \n",
      "       wandb_project_name: CycleGAN-and-pix2pix          \n",
      "----------------- End -------------------\n",
      "----------- Setting up torch device. --------\n",
      "user provided gpu_ids = [0]\n",
      "platform = <GpuPlatform.MPS: 2>\n",
      "---------------------------------------------\n",
      "dataset [AlignedDataset] was created\n",
      "initialize network with normal\n",
      "model [Pix2PixModel] was created\n",
      "loading the model from ./checkpoints/sprite_E1/latest_net_G.pth\n",
      "---------- Networks initialized -------------\n",
      "[Network G] Total number of parameters : 29.244 M\n",
      "-----------------------------------------------\n"
     ]
    },
    {
     "data": {
      "text/plain": [
       "<IPython.core.display.HTML object>"
      ],
      "text/html": [
       "<h3>Evaluating E1 model with test dataset</h3>"
      ]
     },
     "metadata": {},
     "output_type": "display_data"
    },
    {
     "name": "stderr",
     "output_type": "stream",
     "text": [
      "  0%|          | 0/1344 [00:00<?, ?it/s]"
     ]
    },
    {
     "data": {
      "text/plain": [
       "<IPython.core.display.HTML object>"
      ],
      "text/html": [
       "<b>Input Sketch</b>"
      ]
     },
     "metadata": {},
     "output_type": "display_data"
    },
    {
     "data": {
      "text/plain": [
       "<PIL.Image.Image image mode=RGB size=64x64>"
      ],
      "image/png": "[encoded data removed]",
      "image/jpeg": "[encoded data removed]"
     },
     "metadata": {},
     "output_type": "display_data"
    },
    {
     "data": {
      "text/plain": [
       "<IPython.core.display.HTML object>"
      ],
      "text/html": [
       "<b>Generated Image</b>"
      ]
     },
     "metadata": {},
     "output_type": "display_data"
    },
    {
     "data": {
      "text/plain": [
       "<PIL.Image.Image image mode=RGB size=64x64>"
      ],
      "image/png": "[encoded data removed]",
      "image/jpeg": "[encoded data removed]"
     },
     "metadata": {},
     "output_type": "display_data"
    },
    {
     "data": {
      "text/plain": [
       "<IPython.core.display.HTML object>"
      ],
      "text/html": [
       "<b>Ground Truth Image</b>"
      ]
     },
     "metadata": {},
     "output_type": "display_data"
    },
    {
     "data": {
      "text/plain": [
       "<PIL.Image.Image image mode=RGB size=64x64>"
      ],
      "image/png": "[encoded data removed]",
      "image/jpeg": "[encoded data removed]"
     },
     "metadata": {},
     "output_type": "display_data"
    },
    {
     "name": "stderr",
     "output_type": "stream",
     "text": [
      "100%|██████████| 1344/1344 [00:24<00:00, 55.42it/s]\n"
     ]
    },
    {
     "data": {
      "text/plain": [
       "<IPython.core.display.HTML object>"
      ],
      "text/html": [
       "<span style='color: orange'><b>FID score = 0.008265819400548935</b></span>"
      ]
     },
     "metadata": {},
     "output_type": "display_data"
    },
    {
     "data": {
      "text/plain": [
       "<IPython.core.display.HTML object>"
      ],
      "text/html": [
       "<span style='color: cyan'><b>SSIM score = 0.9779919385910034</b></span>"
      ]
     },
     "metadata": {},
     "output_type": "display_data"
    }
   ],
   "execution_count": 6
  },
  {
   "metadata": {
    "ExecuteTime": {
     "end_time": "2024-08-11T09:14:21.724143Z",
     "start_time": "2024-08-11T09:13:03.647364Z"
    }
   },
   "cell_type": "code",
   "source": [
    "# -------- Evaluate E1 with train dataset ------------\n",
    "\n",
    "model, dataset = load_model_dataset(e1_merged_dataset_location, e1_model_name, phase=\"train\")\n",
    "# A limit = 1344 (same count as test data) has been set, Without a limit this runs for a very long time\n",
    "evaluate_model('E1', model, dataset, phase=\"train\", limit=1344)"
   ],
   "id": "a5b5fef296a658bb",
   "outputs": [
    {
     "name": "stdout",
     "output_type": "stream",
     "text": [
      "----------------- Options ---------------\n",
      "             aspect_ratio: 1.0                           \n",
      "               batch_size: 1                             \n",
      "          checkpoints_dir: ./checkpoints                 \n",
      "                crop_size: 64                            \t[default: 256]\n",
      "                 dataroot: /Users/tashvit/Documents/GitHub/mmpixagen/datasets/model_e_data/combined/\t[default: None]\n",
      "             dataset_mode: aligned                       \n",
      "                direction: AtoB                          \n",
      "          display_winsize: 64                            \t[default: 256]\n",
      "                    epoch: latest                        \n",
      "                     eval: False                         \n",
      "                  gpu_ids: 0                             \n",
      "                init_gain: 0.02                          \n",
      "                init_type: normal                        \n",
      "                 input_nc: 3                             \n",
      "                  isTrain: False                         \t[default: None]\n",
      "                load_iter: 0                             \t[default: 0]\n",
      "                load_size: 64                            \t[default: 256]\n",
      "         max_dataset_size: inf                           \n",
      "                    model: pix2pix                       \t[default: test]\n",
      "               n_layers_D: 3                             \n",
      "                     name: sprite_E1                     \t[default: experiment_name]\n",
      "                      ndf: 64                            \n",
      "                     netD: pixel                         \t[default: basic]\n",
      "                     netG: unet_64                       \t[default: unet_256]\n",
      "                      ngf: 64                            \n",
      "               no_dropout: False                         \n",
      "                  no_flip: False                         \n",
      "                     norm: batch                         \n",
      "                 num_test: 50                            \n",
      "              num_threads: 4                             \n",
      "                output_nc: 3                             \n",
      "                    phase: train                         \t[default: test]\n",
      "               preprocess: resize_and_crop               \n",
      "              results_dir: ./results/                    \n",
      "           serial_batches: False                         \n",
      "                   suffix:                               \n",
      "                use_wandb: False                         \n",
      "                  verbose: False                         \n",
      "       wandb_project_name: CycleGAN-and-pix2pix          \n",
      "----------------- End -------------------\n",
      "----------- Setting up torch device. --------\n",
      "user provided gpu_ids = [0]\n",
      "platform = <GpuPlatform.MPS: 2>\n",
      "---------------------------------------------\n",
      "dataset [AlignedDataset] was created\n",
      "initialize network with normal\n",
      "model [Pix2PixModel] was created\n",
      "loading the model from ./checkpoints/sprite_E1/latest_net_G.pth\n",
      "---------- Networks initialized -------------\n",
      "[Network G] Total number of parameters : 29.244 M\n",
      "-----------------------------------------------\n"
     ]
    },
    {
     "data": {
      "text/plain": [
       "<IPython.core.display.HTML object>"
      ],
      "text/html": [
       "<h3>Evaluating E1 model with train dataset</h3>"
      ]
     },
     "metadata": {},
     "output_type": "display_data"
    },
    {
     "name": "stderr",
     "output_type": "stream",
     "text": [
      "  0%|          | 0/6720 [00:00<?, ?it/s]"
     ]
    },
    {
     "data": {
      "text/plain": [
       "<IPython.core.display.HTML object>"
      ],
      "text/html": [
       "<b>Input Sketch</b>"
      ]
     },
     "metadata": {},
     "output_type": "display_data"
    },
    {
     "data": {
      "text/plain": [
       "<PIL.Image.Image image mode=RGB size=64x64>"
      ],
      "image/png": "[encoded data removed]",
      "image/jpeg": "[encoded data removed]"
     },
     "metadata": {},
     "output_type": "display_data"
    },
    {
     "data": {
      "text/plain": [
       "<IPython.core.display.HTML object>"
      ],
      "text/html": [
       "<b>Generated Image</b>"
      ]
     },
     "metadata": {},
     "output_type": "display_data"
    },
    {
     "data": {
      "text/plain": [
       "<PIL.Image.Image image mode=RGB size=64x64>"
      ],
      "image/png": "[encoded data removed]",
      "image/jpeg": "[encoded data removed]"
     },
     "metadata": {},
     "output_type": "display_data"
    },
    {
     "data": {
      "text/plain": [
       "<IPython.core.display.HTML object>"
      ],
      "text/html": [
       "<b>Ground Truth Image</b>"
      ]
     },
     "metadata": {},
     "output_type": "display_data"
    },
    {
     "data": {
      "text/plain": [
       "<PIL.Image.Image image mode=RGB size=64x64>"
      ],
      "image/png": "[encoded data removed]",
      "image/jpeg": "[encoded data removed]"
     },
     "metadata": {},
     "output_type": "display_data"
    },
    {
     "name": "stderr",
     "output_type": "stream",
     "text": [
      " 20%|█▉        | 1343/6720 [00:23<01:36, 55.98it/s]\n"
     ]
    },
    {
     "name": "stdout",
     "output_type": "stream",
     "text": [
      "Limit reached\n"
     ]
    },
    {
     "data": {
      "text/plain": [
       "<IPython.core.display.HTML object>"
      ],
      "text/html": [
       "<span style='color: orange'><b>FID score = 0.006422676611691713</b></span>"
      ]
     },
     "metadata": {},
     "output_type": "display_data"
    },
    {
     "data": {
      "text/plain": [
       "<IPython.core.display.HTML object>"
      ],
      "text/html": [
       "<span style='color: cyan'><b>SSIM score = 0.9825271368026733</b></span>"
      ]
     },
     "metadata": {},
     "output_type": "display_data"
    }
   ],
   "execution_count": 7
  },
  {
   "metadata": {},
   "cell_type": "markdown",
   "source": "",
   "id": "7555fce9071b484d"
  }
 ],
 "metadata": {
  "kernelspec": {
   "display_name": "Python 3",
   "language": "python",
   "name": "python3"
  },
  "language_info": {
   "codemirror_mode": {
    "name": "ipython",
    "version": 2
   },
   "file_extension": ".py",
   "mimetype": "text/x-python",
   "name": "python",
   "nbconvert_exporter": "python",
   "pygments_lexer": "ipython2",
   "version": "2.7.6"
  }
 },
 "nbformat": 4,
 "nbformat_minor": 5
}
