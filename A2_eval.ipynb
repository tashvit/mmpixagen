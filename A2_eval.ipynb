{
 "cells": [
  {
   "cell_type": "markdown",
   "metadata": {
    "collapsed": true,
    "pycharm": {
     "name": "#%% md\n"
    }
   },
   "source": [
    "# Evaluate A2 model\n",
    "\n",
    "Based on pix2pix/test.py and A1_eval notebook\n"
   ]
  },
  {
   "cell_type": "code",
   "source": [
    "from pix2pix.options.test_options import TestOptions\n",
    "from pix2pix.data import create_dataset\n",
    "from pix2pix.models import create_model\n",
    "from pix2pix.util import util\n",
    "from tqdm import tqdm\n",
    "import torch\n",
    "import numpy as np\n",
    "from torchmetrics.image.fid import FrechetInceptionDistance\n",
    "from torchmetrics.image import StructuralSimilarityIndexMeasure\n",
    "import IPython.display as display\n",
    "from IPython.display import HTML\n",
    "from PIL import Image"
   ],
   "metadata": {
    "collapsed": false,
    "pycharm": {
     "name": "#%%\n"
    },
    "ExecuteTime": {
     "end_time": "2024-07-20T10:15:35.210229Z",
     "start_time": "2024-07-20T10:15:33.967954Z"
    }
   },
   "outputs": [],
   "execution_count": 1
  },
  {
   "metadata": {
    "ExecuteTime": {
     "end_time": "2024-07-20T10:15:35.220086Z",
     "start_time": "2024-07-20T10:15:35.215349Z"
    }
   },
   "cell_type": "code",
   "source": [
    "# Model information\n",
    "\n",
    "model_direction = \"BtoA\"\n",
    "a2_model_name = \"pixel_A2\"\n",
    "a2_merged_dataset_location = \"./pix2pix_data/AB\"\n",
    "unmerged_input_data = \"./pix2pix_data/B\"\n",
    "unmerged_output_data = \"./pix2pix_data/A\"\n",
    "model_type = \"pix2pix\""
   ],
   "outputs": [],
   "execution_count": 2
  },
  {
   "metadata": {
    "ExecuteTime": {
     "end_time": "2024-07-20T10:15:35.226090Z",
     "start_time": "2024-07-20T10:15:35.222150Z"
    }
   },
   "cell_type": "code",
   "source": [
    "def load_model_dataset(merged_dataset_location, model_name, phase=\"test\"):\n",
    "    \"\"\"\n",
    "    Function to load a model and dataset\n",
    "    :param merged_dataset_location: location of 'combined' dataset for model\n",
    "    :param model_name: name of model\n",
    "    :param phase: load 'test'/'train'/'val' data\n",
    "    :return: loaded model and dataset to use for evaluation\n",
    "    \"\"\"\n",
    "    # Arguments for Pix2Pix TestOptions\n",
    "    args = [\"--dataroot\", merged_dataset_location, \"--name\", model_name, \"--model\", model_type, \"--direction\", model_direction, \"--phase\", phase, \"--netG\", \"unet_64\", \"--netD\", \"pixel\", \"--load_size\", \"64\", \"--crop_size\", \"64\", \"--display_winsize\", \"64\"]\n",
    "    \n",
    "    # Parsed test options\n",
    "    opt = TestOptions().parse(args)\n",
    "    opt.num_threads = 0\n",
    "    opt.batch_size = 1\n",
    "    opt.serial_batches = True\n",
    "    opt.no_flip = True\n",
    "    opt.display_id = -1\n",
    "    dataset = create_dataset(opt)\n",
    "    model = create_model(opt)\n",
    "    model.setup(opt)\n",
    "    \n",
    "    return model, dataset"
   ],
   "outputs": [],
   "execution_count": 3
  },
  {
   "metadata": {
    "ExecuteTime": {
     "end_time": "2024-07-20T10:15:35.233854Z",
     "start_time": "2024-07-20T10:15:35.230624Z"
    }
   },
   "cell_type": "code",
   "source": [
    "def show_image(img):\n",
    "    \"\"\"\n",
    "    Function to display an image\n",
    "    :param img: tensor\n",
    "    \"\"\"\n",
    "    # Convert tensor to image\n",
    "    im = util.tensor2im(img)\n",
    "    im = Image.fromarray(im)\n",
    "    # Display image in notebook\n",
    "    display.display(im)\n",
    "\n",
    "def show_html(html):\n",
    "    \"\"\"\n",
    "    Function to display HTML string in notebook\n",
    "    :param html: html string\n",
    "    \"\"\"\n",
    "    display.display(HTML(html))\n",
    "\n",
    "def image_to_rgb(img):\n",
    "    \"\"\"\n",
    "    Function to convert an image to RGB\n",
    "    Code derived from Pix2Pix code\n",
    "    :param img: tensor with float values to represent image\n",
    "    :return: tensor with RGB integer values\n",
    "    \"\"\"\n",
    "    n = img[0].cpu().float().numpy()\n",
    "    converted = ((n + 1) / 2.0 * 255.0).astype(np.uint8)\n",
    "    return torch.from_numpy(converted)"
   ],
   "outputs": [],
   "execution_count": 4
  },
  {
   "metadata": {
    "ExecuteTime": {
     "end_time": "2024-07-20T10:15:35.241068Z",
     "start_time": "2024-07-20T10:15:35.236167Z"
    }
   },
   "cell_type": "code",
   "source": [
    "def evaluate_model(model_name, model, dataset, phase=\"test\"):\n",
    "    \"\"\"\n",
    "    Function to evaluate a model\n",
    "    :param model_name: name of model\n",
    "    :param model: model object\n",
    "    :param dataset: dataset object\n",
    "    :param phase: test/train/val\n",
    "    \"\"\"\n",
    "    # Metrics objects for evaluation\n",
    "    fid = FrechetInceptionDistance(feature=64, input_img_size=(3, 64, 64))\n",
    "    ssim = StructuralSimilarityIndexMeasure(data_range=1.0)\n",
    "    \n",
    "    ground_truth_data = []\n",
    "    generated_data = []\n",
    "    \n",
    "    # Display header in notebook\n",
    "    show_html(f\"<h3>Evaluating {model_name} model with {phase} dataset</h3>\")\n",
    "    \n",
    "    # For loop to test model and get ground truth images and generated images\n",
    "    # Derived from Pix2Pix code\n",
    "    # FID: https://lightning.ai/docs/torchmetrics/stable/image/frechet_inception_distance.html\n",
    "    # SSIM: https://lightning.ai/docs/torchmetrics/stable/image/structural_similarity.html\n",
    "    for i, datum in enumerate(tqdm(dataset)):\n",
    "        model.set_input(datum)\n",
    "        # Pix2Pix model testing\n",
    "        model.test()\n",
    "        visuals = model.get_current_visuals()\n",
    "        generated = visuals['fake_B']\n",
    "        ground_truth = visuals['real_B']\n",
    "        \n",
    "        # Show first image\n",
    "        if i == 0:\n",
    "            show_html(\"<b>Input Sketch</b>\")\n",
    "            show_image(visuals['real_A'])\n",
    "            show_html(\"<b>Generated Image</b>\")\n",
    "            show_image(generated)\n",
    "            show_html(\"<b>Ground Truth Image</b>\")\n",
    "            show_image(ground_truth)\n",
    "    \n",
    "        # Add fake and real images to arrays\n",
    "        generated_data.append(image_to_rgb(generated))\n",
    "        ground_truth_data.append(image_to_rgb(ground_truth))\n",
    "    \n",
    "    # Pass in real and generated images to metrics objects\n",
    "    fid.update(torch.stack(ground_truth_data), real=True)\n",
    "    fid.update(torch.stack(generated_data), real=False)\n",
    "    ssim.update(torch.stack(generated_data).float() / 255.0, torch.stack(ground_truth_data).float() / 255.0)\n",
    "    \n",
    "    # Calculating FID and SSIM scores and display them\n",
    "    fid_score = fid.compute().item()\n",
    "    ssim_score = ssim.compute().item()\n",
    "    show_html(f\"<span style='color: orange'><b>FID score = {fid_score}</b></span>\")\n",
    "    show_html(f\"<span style='color: cyan'><b>SSIM score = {ssim_score}</b></span>\")"
   ],
   "outputs": [],
   "execution_count": 5
  },
  {
   "metadata": {},
   "cell_type": "markdown",
   "source": "# A2 evaluation"
  },
  {
   "metadata": {
    "ExecuteTime": {
     "end_time": "2024-07-20T10:15:40.364747Z",
     "start_time": "2024-07-20T10:15:35.244169Z"
    }
   },
   "cell_type": "code",
   "source": [
    "# -------- Evaluate A2 with test dataset ------------\n",
    "\n",
    "model, dataset = load_model_dataset(a2_merged_dataset_location, a2_model_name, phase=\"test\")\n",
    "evaluate_model('A2', model, dataset, phase=\"test\")"
   ],
   "outputs": [
    {
     "name": "stdout",
     "output_type": "stream",
     "text": [
      "----------------- Options ---------------\n",
      "             aspect_ratio: 1.0                           \n",
      "               batch_size: 1                             \n",
      "          checkpoints_dir: ./checkpoints                 \n",
      "                crop_size: 64                            \t[default: 256]\n",
      "                 dataroot: ./pix2pix_data/AB             \t[default: None]\n",
      "             dataset_mode: aligned                       \n",
      "                direction: BtoA                          \t[default: AtoB]\n",
      "          display_winsize: 64                            \t[default: 256]\n",
      "                    epoch: latest                        \n",
      "                     eval: False                         \n",
      "                  gpu_ids: 0                             \n",
      "                init_gain: 0.02                          \n",
      "                init_type: normal                        \n",
      "                 input_nc: 3                             \n",
      "                  isTrain: False                         \t[default: None]\n",
      "                load_iter: 0                             \t[default: 0]\n",
      "                load_size: 64                            \t[default: 256]\n",
      "         max_dataset_size: inf                           \n",
      "                    model: pix2pix                       \t[default: test]\n",
      "               n_layers_D: 3                             \n",
      "                     name: pixel_A2                      \t[default: experiment_name]\n",
      "                      ndf: 64                            \n",
      "                     netD: pixel                         \t[default: basic]\n",
      "                     netG: unet_64                       \t[default: unet_256]\n",
      "                      ngf: 64                            \n",
      "               no_dropout: False                         \n",
      "                  no_flip: False                         \n",
      "                     norm: batch                         \n",
      "                 num_test: 50                            \n",
      "              num_threads: 4                             \n",
      "                output_nc: 3                             \n",
      "                    phase: test                          \n",
      "               preprocess: resize_and_crop               \n",
      "              results_dir: ./results/                    \n",
      "           serial_batches: False                         \n",
      "                   suffix:                               \n",
      "                use_wandb: False                         \n",
      "                  verbose: False                         \n",
      "       wandb_project_name: CycleGAN-and-pix2pix          \n",
      "----------------- End -------------------\n",
      "----------- Setting up torch device. --------\n",
      "user provided gpu_ids = [0]\n",
      "platform = <GpuPlatform.MPS: 2>\n",
      "---------------------------------------------\n",
      "dataset [AlignedDataset] was created\n",
      "initialize network with normal\n",
      "model [Pix2PixModel] was created\n",
      "loading the model from ./checkpoints/pixel_A2/latest_net_G.pth\n",
      "---------- Networks initialized -------------\n",
      "[Network G] Total number of parameters : 29.244 M\n",
      "-----------------------------------------------\n"
     ]
    },
    {
     "data": {
      "text/plain": [
       "<IPython.core.display.HTML object>"
      ],
      "text/html": [
       "<h3>Evaluating A2 model with test dataset</h3>"
      ]
     },
     "metadata": {},
     "output_type": "display_data"
    },
    {
     "name": "stderr",
     "output_type": "stream",
     "text": [
      "  0%|          | 0/108 [00:00<?, ?it/s]"
     ]
    },
    {
     "data": {
      "text/plain": [
       "<IPython.core.display.HTML object>"
      ],
      "text/html": [
       "<b>Input Sketch</b>"
      ]
     },
     "metadata": {},
     "output_type": "display_data"
    },
    {
     "data": {
      "text/plain": [
       "<PIL.Image.Image image mode=RGB size=64x64>"
      ],
      "image/png": "[encoded data removed]",
      "image/jpeg": "[encoded data removed]"
     },
     "metadata": {},
     "output_type": "display_data"
    },
    {
     "data": {
      "text/plain": [
       "<IPython.core.display.HTML object>"
      ],
      "text/html": [
       "<b>Generated Image</b>"
      ]
     },
     "metadata": {},
     "output_type": "display_data"
    },
    {
     "data": {
      "text/plain": [
       "<PIL.Image.Image image mode=RGB size=64x64>"
      ],
      "image/png": "[encoded data removed]",
      "image/jpeg": "[encoded data removed]"
     },
     "metadata": {},
     "output_type": "display_data"
    },
    {
     "data": {
      "text/plain": [
       "<IPython.core.display.HTML object>"
      ],
      "text/html": [
       "<b>Ground Truth Image</b>"
      ]
     },
     "metadata": {},
     "output_type": "display_data"
    },
    {
     "data": {
      "text/plain": [
       "<PIL.Image.Image image mode=RGB size=64x64>"
      ],
      "image/png": "[encoded data removed]",
      "image/jpeg": "[encoded data removed]"
     },
     "metadata": {},
     "output_type": "display_data"
    },
    {
     "name": "stderr",
     "output_type": "stream",
     "text": [
      "100%|██████████| 108/108 [00:01<00:00, 75.43it/s]\n"
     ]
    },
    {
     "data": {
      "text/plain": [
       "<IPython.core.display.HTML object>"
      ],
      "text/html": [
       "<span style='color: orange'><b>FID score = 0.06784415990114212</b></span>"
      ]
     },
     "metadata": {},
     "output_type": "display_data"
    },
    {
     "data": {
      "text/plain": [
       "<IPython.core.display.HTML object>"
      ],
      "text/html": [
       "<span style='color: cyan'><b>SSIM score = 0.8703513145446777</b></span>"
      ]
     },
     "metadata": {},
     "output_type": "display_data"
    }
   ],
   "execution_count": 6
  },
  {
   "metadata": {
    "ExecuteTime": {
     "end_time": "2024-07-20T10:17:50.670786Z",
     "start_time": "2024-07-20T10:17:16.081109Z"
    }
   },
   "cell_type": "code",
   "source": [
    "# -------- Evaluate A2 with train dataset ------------\n",
    "\n",
    "model, dataset = load_model_dataset(a2_merged_dataset_location, a2_model_name, phase=\"train\")\n",
    "evaluate_model('A2', model, dataset, phase=\"train\")"
   ],
   "outputs": [
    {
     "name": "stdout",
     "output_type": "stream",
     "text": [
      "----------------- Options ---------------\n",
      "             aspect_ratio: 1.0                           \n",
      "               batch_size: 1                             \n",
      "          checkpoints_dir: ./checkpoints                 \n",
      "                crop_size: 64                            \t[default: 256]\n",
      "                 dataroot: ./pix2pix_data/AB             \t[default: None]\n",
      "             dataset_mode: aligned                       \n",
      "                direction: BtoA                          \t[default: AtoB]\n",
      "          display_winsize: 64                            \t[default: 256]\n",
      "                    epoch: latest                        \n",
      "                     eval: False                         \n",
      "                  gpu_ids: 0                             \n",
      "                init_gain: 0.02                          \n",
      "                init_type: normal                        \n",
      "                 input_nc: 3                             \n",
      "                  isTrain: False                         \t[default: None]\n",
      "                load_iter: 0                             \t[default: 0]\n",
      "                load_size: 64                            \t[default: 256]\n",
      "         max_dataset_size: inf                           \n",
      "                    model: pix2pix                       \t[default: test]\n",
      "               n_layers_D: 3                             \n",
      "                     name: pixel_A2                      \t[default: experiment_name]\n",
      "                      ndf: 64                            \n",
      "                     netD: pixel                         \t[default: basic]\n",
      "                     netG: unet_64                       \t[default: unet_256]\n",
      "                      ngf: 64                            \n",
      "               no_dropout: False                         \n",
      "                  no_flip: False                         \n",
      "                     norm: batch                         \n",
      "                 num_test: 50                            \n",
      "              num_threads: 4                             \n",
      "                output_nc: 3                             \n",
      "                    phase: train                         \t[default: test]\n",
      "               preprocess: resize_and_crop               \n",
      "              results_dir: ./results/                    \n",
      "           serial_batches: False                         \n",
      "                   suffix:                               \n",
      "                use_wandb: False                         \n",
      "                  verbose: False                         \n",
      "       wandb_project_name: CycleGAN-and-pix2pix          \n",
      "----------------- End -------------------\n",
      "----------- Setting up torch device. --------\n",
      "user provided gpu_ids = [0]\n",
      "platform = <GpuPlatform.MPS: 2>\n",
      "---------------------------------------------\n",
      "dataset [AlignedDataset] was created\n",
      "initialize network with normal\n",
      "model [Pix2PixModel] was created\n",
      "loading the model from ./checkpoints/pixel_A2/latest_net_G.pth\n",
      "---------- Networks initialized -------------\n",
      "[Network G] Total number of parameters : 29.244 M\n",
      "-----------------------------------------------\n"
     ]
    },
    {
     "data": {
      "text/plain": [
       "<IPython.core.display.HTML object>"
      ],
      "text/html": [
       "<h3>Evaluating A2 model with train dataset</h3>"
      ]
     },
     "metadata": {},
     "output_type": "display_data"
    },
    {
     "name": "stderr",
     "output_type": "stream",
     "text": [
      "  0%|          | 0/795 [00:00<?, ?it/s]"
     ]
    },
    {
     "data": {
      "text/plain": [
       "<IPython.core.display.HTML object>"
      ],
      "text/html": [
       "<b>Input Sketch</b>"
      ]
     },
     "metadata": {},
     "output_type": "display_data"
    },
    {
     "data": {
      "text/plain": [
       "<PIL.Image.Image image mode=RGB size=64x64>"
      ],
      "image/png": "[encoded data removed]",
      "image/jpeg": "[encoded data removed]"
     },
     "metadata": {},
     "output_type": "display_data"
    },
    {
     "data": {
      "text/plain": [
       "<IPython.core.display.HTML object>"
      ],
      "text/html": [
       "<b>Generated Image</b>"
      ]
     },
     "metadata": {},
     "output_type": "display_data"
    },
    {
     "data": {
      "text/plain": [
       "<PIL.Image.Image image mode=RGB size=64x64>"
      ],
      "image/png": "[encoded data removed]",
      "image/jpeg": "[encoded data removed]"
     },
     "metadata": {},
     "output_type": "display_data"
    },
    {
     "data": {
      "text/plain": [
       "<IPython.core.display.HTML object>"
      ],
      "text/html": [
       "<b>Ground Truth Image</b>"
      ]
     },
     "metadata": {},
     "output_type": "display_data"
    },
    {
     "data": {
      "text/plain": [
       "<PIL.Image.Image image mode=RGB size=64x64>"
      ],
      "image/png": "[encoded data removed]",
      "image/jpeg": "[encoded data removed]"
     },
     "metadata": {},
     "output_type": "display_data"
    },
    {
     "name": "stderr",
     "output_type": "stream",
     "text": [
      "100%|██████████| 795/795 [00:09<00:00, 84.19it/s]\n"
     ]
    },
    {
     "data": {
      "text/plain": [
       "<IPython.core.display.HTML object>"
      ],
      "text/html": [
       "<span style='color: orange'><b>FID score = 0.00955528300255537</b></span>"
      ]
     },
     "metadata": {},
     "output_type": "display_data"
    },
    {
     "data": {
      "text/plain": [
       "<IPython.core.display.HTML object>"
      ],
      "text/html": [
       "<span style='color: cyan'><b>SSIM score = 0.991804301738739</b></span>"
      ]
     },
     "metadata": {},
     "output_type": "display_data"
    }
   ],
   "execution_count": 9
  },
  {
   "metadata": {
    "ExecuteTime": {
     "end_time": "2024-07-20T10:15:40.370484Z",
     "start_time": "2024-07-20T10:15:40.369075Z"
    }
   },
   "cell_type": "code",
   "source": "",
   "outputs": [],
   "execution_count": 7
  }
 ],
 "metadata": {
  "kernelspec": {
   "display_name": "Python 3",
   "language": "python",
   "name": "python3"
  },
  "language_info": {
   "codemirror_mode": {
    "name": "ipython",
    "version": 2
   },
   "file_extension": ".py",
   "mimetype": "text/x-python",
   "name": "python",
   "nbconvert_exporter": "python",
   "pygments_lexer": "ipython2",
   "version": "2.7.6"
  }
 },
 "nbformat": 4,
 "nbformat_minor": 0
}
