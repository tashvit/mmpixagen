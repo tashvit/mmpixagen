{
 "cells": [
  {
   "cell_type": "markdown",
   "metadata": {},
   "source": [
    "## Data preparation - sketch to pixel art (Models A1, A2)\n",
    "\n",
    "### Create pairs of sketches and pixel art images from 64x64 images taken from Tiny Hero dataset\n",
    "\n",
    "- Tiny Hero dataset source: https://www.kaggle.com/datasets/calmness/retro-pixel-characters-generator\n",
    "- Data preparation for models A1, A2 uses data from the `datasets/unprepared_data/input_a1_a2` folder.\n",
    "- Data preparation involves using gaussian-blur and canny edge detection to generate a viable sketch for a given image\n",
    "- The code for `create_sketch` function is a result of experimenting upon code from:\n",
    "    - https://stackabuse.com/opencv-edge-detection-in-python-with-cv2canny/\n",
    "    - https://codewithcurious.com/python-projects/convert-image-into-sketch-python/\n",
    "- 3 sketches of decreasing detail are created for each input image (creates more data for the models)\n",
    "- Prepared data is saved in `datasets/model_a_data`\n",
    "- Pix2Pix models requires input images and ground truth images to be combined. These prepared images are stored in the `combined` folder of `datasets/model_a_data`"
   ]
  },
  {
   "cell_type": "code",
   "metadata": {
    "ExecuteTime": {
     "end_time": "2024-08-04T09:31:54.916907Z",
     "start_time": "2024-08-04T09:31:54.354181Z"
    }
   },
   "source": [
    "import cv2 as cv\n",
    "import os\n",
    "import common_functions as core\n",
    "\n",
    "def remove_extension(i: str) -> str:\n",
    "    \"\"\"\n",
    "    Function to remove the extension of a filename\n",
    "    :param i: input name of file\n",
    "    :return: filename without extension\n",
    "    \"\"\"\n",
    "    a, _ = os.path.splitext(i)\n",
    "    return a\n",
    "\n",
    "def get_filename(i: str) -> str:\n",
    "    \"\"\"\n",
    "    Function to get the filename of a given path\n",
    "    :param i: file path\n",
    "    :return: filename\n",
    "    \"\"\"\n",
    "    return os.path.basename(i)\n",
    "\n",
    "def create_sketch(i: str, levels: int = 3, directory=\".\"):\n",
    "    \"\"\"\n",
    "    Function to create a sketch of an image\n",
    "    :param i: input image path\n",
    "    :param levels: number of levels to apply sketching - higher the number, smoother the sketching (less detail)\n",
    "    :param directory: location to save the sketch\n",
    "    :return: \n",
    "    Code references:\n",
    "    - https://stackabuse.com/opencv-edge-detection-in-python-with-cv2canny/\n",
    "    - https://codewithcurious.com/python-projects/convert-image-into-sketch-python/\n",
    "    \"\"\"\n",
    "    # Load image\n",
    "    image = cv.imread(i)\n",
    "\n",
    "    # BASIC SKETCH\n",
    "    # Convert image to grayscale\n",
    "    gray_image = cv.cvtColor(image, cv.COLOR_BGR2GRAY)\n",
    "    # Invert grayscale image\n",
    "    invert_image = cv.bitwise_not(gray_image)\n",
    "    # Apply Gaussian blur to inverted image\n",
    "    blur_image = cv.GaussianBlur(invert_image, (5,5), 0)\n",
    "    # Invert the blurred image\n",
    "    invert_blur = cv.bitwise_not(blur_image)\n",
    "    # Divide grayscale image by inverted blurred image to create a sketch\n",
    "    sketch = cv.divide(gray_image, invert_blur, scale=256.0)    \n",
    "    \n",
    "    # EDGE DETECTION\n",
    "    # Apply Gaussian blur to sketch\n",
    "    b1 = cv.GaussianBlur(sketch, (5, 5), 0)\n",
    "    b2 = b1\n",
    "    # for loop to apply additional Gaussian blur to the image\n",
    "    # When `levels` argument is increased -> more Gaussian blur is applied -> sketch becomes simpler\n",
    "    for _ in range(0, levels - 1):\n",
    "        b2 = cv.GaussianBlur(b2, (5, 5), 0)\n",
    "    \n",
    "    # Using canny edge detection on final blurred image\n",
    "    edge = cv.Canny(b2, 50, 100)\n",
    "    # Inverting the edge-detected image\n",
    "    edge_inv = cv.bitwise_not(edge)\n",
    "    # Saving the image\n",
    "    file_path = os.path.join(directory, f\"{get_filename(remove_extension(i))}_s{levels}.png\")\n",
    "    cv.imwrite(file_path, edge_inv)"
   ],
   "outputs": [],
   "execution_count": 1
  },
  {
   "metadata": {},
   "cell_type": "markdown",
   "source": "## Folder structure for model A1, A2 data folders"
  },
  {
   "metadata": {},
   "cell_type": "markdown",
   "source": [
    "```\n",
    "model_a_data\n",
    "    -- input (every image from 'input_a' folder is added 3 times because 3 sketches are created for every input image)\n",
    "        -- train\n",
    "        -- test\n",
    "        -- val\n",
    "    -- output (contains 3 sketches of decreasing detail for each 'input' image)\n",
    "        -- train\n",
    "        -- test\n",
    "        -- val\n",
    "    -- combined (combined input, output images to use for Pix2Pix training)\n",
    "        -- train\n",
    "        -- test\n",
    "        -- val\n",
    "```"
   ]
  },
  {
   "cell_type": "markdown",
   "metadata": {},
   "source": [
    "## Generate data for training a Pix2Pix model"
   ]
  },
  {
   "cell_type": "code",
   "metadata": {
    "ExecuteTime": {
     "end_time": "2024-08-04T09:31:56.278339Z",
     "start_time": "2024-08-04T09:31:54.921118Z"
    }
   },
   "source": [
    "import glob\n",
    "import shutil\n",
    "\n",
    "# Make new directory for temp data\n",
    "TEMP = core.get_path(core.A1.temp_directory)\n",
    "os.makedirs(TEMP, exist_ok=True)\n",
    "\n",
    "# 3 sketches of decreasing detail will be created from a single input image\n",
    "# This gives us more image pairs to train the model with\n",
    "total_levels = 3\n",
    "\n",
    "# Looping through `input_a1_a2` folder\n",
    "for i, f in enumerate(glob.glob(core.get_path(core.A1.raw_data_dir, \"*.png\"))):\n",
    "    # Zero-padded numbers as file names\n",
    "    target = f\"{i:03}\"\n",
    "    # Adding 'target' image inside TEMP folder\n",
    "    target = os.path.join(TEMP, target) + \".png\"\n",
    "    shutil.copyfile(f, target)\n",
    "    # Calling 'create_sketch' function that creates 3 different sketches from the 'target' image\n",
    "    for j in range(1, total_levels + 1):\n",
    "        create_sketch(target, levels = j, directory = TEMP)\n",
    "\n",
    "# At this point TEMP folder contains input images + 3 sketches per original image"
   ],
   "outputs": [],
   "execution_count": 2
  },
  {
   "cell_type": "markdown",
   "metadata": {},
   "source": [
    "### Create folder structure for pix2pix"
   ]
  },
  {
   "cell_type": "code",
   "metadata": {
    "ExecuteTime": {
     "end_time": "2024-08-04T09:31:57.317943Z",
     "start_time": "2024-08-04T09:31:56.291064Z"
    }
   },
   "source": [
    "# Splitting data for training, testing, validation\n",
    "total_files = i     # i variable from previous for loop\n",
    "\n",
    "test = int(total_files * 0.79)\n",
    "val = int(total_files * 0.90)\n",
    "\n",
    "splits = [\"train\", \"test\", \"val\"]\n",
    "\n",
    "MODEL_INPUT_DIR = core.get_path(core.A1.prepared_data_dir, \"input\")\n",
    "MODEL_OUTPUT_DIR = core.get_path(core.A1.prepared_data_dir, \"output\")\n",
    "MODEL_COMBINED_DIR = core.get_path(core.A1.prepared_data_dir, \"combined\")\n",
    "\n",
    "# Creating 'input', 'output' folders for model A1, A2 data folder\n",
    "for s in splits:\n",
    "    os.makedirs(os.path.join(MODEL_INPUT_DIR, s), exist_ok=True)\n",
    "    os.makedirs(os.path.join(MODEL_OUTPUT_DIR, s), exist_ok=True)\n",
    "\n",
    "# Counter variable for created image-sketch pairs\n",
    "data_number = 0\n",
    "\n",
    "# For loop to split files into train, test, validation\n",
    "for i in range(0, total_files):\n",
    "    current_split = \"train\"\n",
    "    if test < i < val:\n",
    "        current_split = \"test\"\n",
    "    elif val <= i:\n",
    "        current_split = \"val\"\n",
    "    # Zero-padded numbers as file names\n",
    "    pair_name = f\"{i:03}\"\n",
    "    \n",
    "    ## TODO: REWRITE THIS BIT\n",
    "    \n",
    "    pair_A_path = os.path.join(TEMP, pair_name) + \".png\"\n",
    "    \n",
    "    # For loop to copy original image and 3 sketches to A and B folders respectively\n",
    "        ## with new numbering using the data_number variable\n",
    "    ### TEMP  --> 000.png, 000_s1.png, 000_s2.png, 000_s3.png\n",
    "    ### A         000.png, 001.png, 002.png (copies of TEMP/000.png)\n",
    "    ### B         000.png (TEMP/000_s1.png), 001.png (TEMP/000_s2.png), 002.png (TEMP/000_s3.png)\n",
    "    for j in range(1, total_levels + 1):\n",
    "        # Sketch files 1, 2, 3\n",
    "        pair_B_path = os.path.join(TEMP, f\"{pair_name}_s{j}.png\")\n",
    "        # File naming\n",
    "        data_name = f\"{data_number:03}\"\n",
    "        data_A_path = os.path.join(MODEL_INPUT_DIR, current_split, data_name) + \".png\"\n",
    "        data_B_path = os.path.join(MODEL_OUTPUT_DIR, current_split, data_name) + \".png\"\n",
    "        shutil.copyfile(pair_A_path, data_A_path)\n",
    "        shutil.copyfile(pair_B_path, data_B_path)\n",
    "        data_number += 1\n",
    "\n",
    "# Cleanup TEMP folder as it is no longer needed\n",
    "shutil.rmtree(TEMP)"
   ],
   "outputs": [],
   "execution_count": 3
  },
  {
   "cell_type": "markdown",
   "metadata": {},
   "source": [
    "## Convert to combined AB images"
   ]
  },
  {
   "cell_type": "code",
   "metadata": {
    "ExecuteTime": {
     "end_time": "2024-08-04T09:31:58.889300Z",
     "start_time": "2024-08-04T09:31:57.359839Z"
    }
   },
   "source": [
    "os.makedirs(MODEL_COMBINED_DIR, exist_ok=True)\n",
    "core.create_combined_images(f\"--fold_A {MODEL_INPUT_DIR} --fold_B {MODEL_OUTPUT_DIR} --fold_AB {MODEL_COMBINED_DIR} --no_multiprocessing\")"
   ],
   "outputs": [
    {
     "name": "stdout",
     "output_type": "stream",
     "text": [
      "----------------------------------------------------------\n",
      "python /Users/tashvit/Documents/GitHub/mmpixagen/thirdparty/pix2pix/datasets/combine_A_and_B.py --fold_A /Users/tashvit/Documents/GitHub/mmpixagen/datasets/model_a_data/input --fold_B /Users/tashvit/Documents/GitHub/mmpixagen/datasets/model_a_data/output --fold_AB /Users/tashvit/Documents/GitHub/mmpixagen/datasets/model_a_data/combined --no_multiprocessing\n",
      "[fold_A] =  /Users/tashvit/Documents/GitHub/mmpixagen/datasets/model_a_data/input\n",
      "[fold_B] =  /Users/tashvit/Documents/GitHub/mmpixagen/datasets/model_a_data/output\n",
      "[fold_AB] =  /Users/tashvit/Documents/GitHub/mmpixagen/datasets/model_a_data/combined\n",
      "[num_imgs] =  1000000\n",
      "[use_AB] =  False\n",
      "[no_multiprocessing] =  True\n",
      "split = test, use 108/108 images\n",
      "split = test, number of images = 108\n",
      "split = train, use 795/795 images\n",
      "split = train, number of images = 795\n",
      "split = val, use 102/102 images\n",
      "split = val, number of images = 102\n"
     ]
    }
   ],
   "execution_count": 4
  },
  {
   "cell_type": "code",
   "metadata": {
    "ExecuteTime": {
     "end_time": "2024-08-04T09:31:58.895579Z",
     "start_time": "2024-08-04T09:31:58.893122Z"
    }
   },
   "source": [],
   "outputs": [],
   "execution_count": 4
  }
 ],
 "metadata": {
  "kernelspec": {
   "display_name": "Python 3 (ipykernel)",
   "language": "python",
   "name": "python3"
  },
  "language_info": {
   "codemirror_mode": {
    "name": "ipython",
    "version": 3
   },
   "file_extension": ".py",
   "mimetype": "text/x-python",
   "name": "python",
   "nbconvert_exporter": "python",
   "pygments_lexer": "ipython3",
   "version": "3.12.3"
  }
 },
 "nbformat": 4,
 "nbformat_minor": 4
}
