{
 "cells": [
  {
   "cell_type": "markdown",
   "metadata": {},
   "source": [
    "## Create pairs of sketches and pixel art images from 64x64 images taken from TinyHero dataset\n",
    "\n",
    "- Use gaussian-blur and canny edge detection to generate a viable sketch for the given image\n",
    "- https://stackabuse.com/opencv-edge-detection-in-python-with-cv2canny/\n",
    "- https://codewithcurious.com/python-projects/convert-image-into-sketch-python/\n",
    "- The code below `create_sketch` is derived using experimentation of above 2 code references"
   ]
  },
  {
   "cell_type": "code",
   "execution_count": 15,
   "metadata": {},
   "outputs": [],
   "source": [
    "import cv2 as cv\n",
    "import os\n",
    "\n",
    "def remove_extension(i: str) -> str:\n",
    "    a, _ = os.path.splitext(i)\n",
    "    return a\n",
    "\n",
    "def get_filename(i: str) -> str:\n",
    "    return os.path.basename(i)\n",
    "\n",
    "def create_sketch(i: str, levels: int = 3, directory=\".\"):\n",
    "    image = cv.imread(i)\n",
    "\n",
    "    # Create a basic sketch\n",
    "    gray_image = cv.cvtColor(image, cv.COLOR_BGR2GRAY)\n",
    "    invert_image = cv.bitwise_not(gray_image)\n",
    "    blur_image = cv.GaussianBlur(invert_image, (5,5), 0)\n",
    "    invert_blur = cv.bitwise_not(blur_image)\n",
    "    sketch = cv.divide(gray_image, invert_blur, scale=256.0)    \n",
    "    \n",
    "    # perform edge detection on the sketch\n",
    "    b1 = cv.GaussianBlur(sketch, (5, 5), 0)\n",
    "    b2 = b1\n",
    "    for _ in range(0, levels - 1):\n",
    "        b2 = cv.GaussianBlur(b2, (5, 5), 0)\n",
    "    edge = cv.Canny(b2, 50, 100)\n",
    "    edge_inv = cv.bitwise_not(edge)\n",
    "    \n",
    "    file_path = os.path.join(directory, f\"{get_filename(remove_extension(i))}_s{levels}.png\")\n",
    "    cv.imwrite(file_path, edge_inv)"
   ]
  },
  {
   "cell_type": "markdown",
   "metadata": {},
   "source": [
    "## Generate data for training a Pix2Pix model"
   ]
  },
  {
   "cell_type": "code",
   "execution_count": 16,
   "metadata": {},
   "outputs": [],
   "source": [
    "import glob\n",
    "import shutil\n",
    "\n",
    "os.makedirs(\"./pairs\", exist_ok=True)\n",
    "\n",
    "total_levels = 3\n",
    "\n",
    "for i, f in enumerate(glob.glob(\"./input/*.png\")):\n",
    "    target = f\"{i:03}\"\n",
    "    target = os.path.join(\"./pairs\", target) + \".png\"\n",
    "    shutil.copyfile(f, target)\n",
    "    for j in range(1, total_levels + 1):\n",
    "        create_sketch(target, levels = j, directory = \"./pairs\")"
   ]
  },
  {
   "cell_type": "markdown",
   "metadata": {},
   "source": [
    "### Create folder structure for pix2pix"
   ]
  },
  {
   "cell_type": "code",
   "execution_count": 17,
   "metadata": {},
   "outputs": [],
   "source": [
    "total_files = i\n",
    "\n",
    "test = int(total_files * 0.79)\n",
    "val = int(total_files * 0.90)\n",
    "\n",
    "splits = [\"train\", \"test\", \"val\"]\n",
    "\n",
    "for s in splits:\n",
    "    os.makedirs(f\"./pix2pix_data/A/{s}\", exist_ok=True)\n",
    "    os.makedirs(f\"./pix2pix_data/B/{s}\", exist_ok=True)\n",
    "\n",
    "data_number = 0\n",
    "\n",
    "for i in range(0, total_files):\n",
    "    current_split = \"train\"\n",
    "    if test < i < val:\n",
    "        current_split = \"test\"\n",
    "    elif val <= i:\n",
    "        current_split = \"val\"\n",
    "    pair_name = f\"{i:03}\"\n",
    "    pair_A_path = os.path.join(\"./pairs\", pair_name) + \".png\"\n",
    "    for j in range(1, total_levels + 1):\n",
    "        # sketch files 1, 2, 3\n",
    "        pair_B_path = os.path.join(\"./pairs\", f\"{pair_name}_s{j}.png\")\n",
    "        # file naming\n",
    "        data_name = f\"{data_number:03}\"\n",
    "        data_A_path = os.path.join(\"./pix2pix_data/A/\", current_split, data_name) + \".png\"\n",
    "        data_B_path = os.path.join(\"./pix2pix_data/B/\", current_split, data_name) + \".png\"\n",
    "        shutil.copyfile(pair_A_path, data_A_path)\n",
    "        shutil.copyfile(pair_B_path, data_B_path)\n",
    "        data_number += 1\n",
    "\n",
    "# Cleanup pairs folder as it is no longer needed\n",
    "shutil.rmtree(\"pairs\")"
   ]
  },
  {
   "cell_type": "markdown",
   "metadata": {},
   "source": [
    "## Convert to combined AB images"
   ]
  },
  {
   "cell_type": "code",
   "execution_count": 20,
   "metadata": {},
   "outputs": [
    {
     "name": "stdout",
     "output_type": "stream",
     "text": [
      "[fold_A] =  ./pix2pix_data/A\n",
      "[fold_B] =  ./pix2pix_data/B\n",
      "[fold_AB] =  ./pix2pix_data/AB\n",
      "[num_imgs] =  1000000\n",
      "[use_AB] =  False\n",
      "[no_multiprocessing] =  False\n",
      "split = test, use 108/108 images\n",
      "split = test, number of images = 108\n",
      "split = train, use 795/795 images\n",
      "split = train, number of images = 795\n",
      "split = val, use 102/102 images\n",
      "split = val, number of images = 102\n"
     ]
    }
   ],
   "source": [
    "os.makedirs(\"./pix2pix_data/AB\")\n",
    "!python ./pix2pix/datasets/combine_A_and_B.py --fold_A ./pix2pix_data/A --fold_B ./pix2pix_data/B --fold_AB ./pix2pix_data/AB"
   ]
  },
  {
   "cell_type": "code",
   "execution_count": null,
   "metadata": {},
   "outputs": [],
   "source": []
  }
 ],
 "metadata": {
  "kernelspec": {
   "display_name": "Python 3 (ipykernel)",
   "language": "python",
   "name": "python3"
  },
  "language_info": {
   "codemirror_mode": {
    "name": "ipython",
    "version": 3
   },
   "file_extension": ".py",
   "mimetype": "text/x-python",
   "name": "python",
   "nbconvert_exporter": "python",
   "pygments_lexer": "ipython3",
   "version": "3.12.3"
  }
 },
 "nbformat": 4,
 "nbformat_minor": 4
}
