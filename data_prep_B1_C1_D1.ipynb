{
 "cells": [
  {
   "metadata": {},
   "cell_type": "markdown",
   "source": [
    "## Data preparation - directional models (Models B, C, D)\n",
    "\n",
    "- Tiny Hero dataset source: https://www.kaggle.com/datasets/volodymyrpivoshenko/pixel-characters-dataset\n",
    "- Data preparation for models B, C, D use data from the 'input_bcd' folder.\n",
    "- Folders inside 'input_bcd' folder:\n",
    "    * 0 - Back\n",
    "    * 1 - Left\n",
    "    * 2 - Front\n",
    "    * 3 - Right\n",
    "\n",
    "- Each pixel art character will have the same file number inside each folder\n",
    "    * Eg: A character named '12.png' in the '0' folder (Back-facing) will also be named '12.png' in the Left-facing, Front-facing and Right-facing folders\n",
    "\n",
    "### Directional models\n",
    "\n",
    "* B - Front(2) to Right(3)\n",
    "* C - Front(2) to Back(0)\n",
    "* D - Right(3) to Left(1)"
   ],
   "id": "8369b5d9a3eaeba7"
  },
  {
   "metadata": {
    "ExecuteTime": {
     "end_time": "2024-07-20T23:00:29.653952Z",
     "start_time": "2024-07-20T23:00:29.513965Z"
    }
   },
   "cell_type": "code",
   "source": [
    "import os\n",
    "from common_functions import turn_magenta\n",
    "import common_functions as core\n",
    "\n",
    "# Variable names for data folders from 'input_bcd' folder\n",
    "FRONT_FOLDER = core.get_path(core.B1.raw_data_dir, \"2\")\n",
    "BACK_FOLDER = core.get_path(core.B1.raw_data_dir, \"0\")\n",
    "LEFT_FOLDER = core.get_path(core.B1.raw_data_dir, \"1\")\n",
    "RIGHT_FOLDER = core.get_path(core.B1.raw_data_dir, \"3\")"
   ],
   "id": "418398329d17c356",
   "outputs": [],
   "execution_count": 1
  },
  {
   "metadata": {},
   "cell_type": "markdown",
   "source": [
    "## Folder structure for model B, C, D data folders\n",
    "\n",
    "Folder structure for `model_b_data`, `model_c_data` and `model_d_data` folders is the same."
   ],
   "id": "62c4b59416fa808f"
  },
  {
   "metadata": {},
   "cell_type": "markdown",
   "source": [
    "```\n",
    "model_b_data\n",
    "    -- input (from FRONT_FOLDER copy files)\n",
    "        -- train\n",
    "        -- test\n",
    "        -- val\n",
    "    -- output (from RIGHT_FOLDER copy files)\n",
    "        -- train\n",
    "        -- test\n",
    "        -- val\n",
    "    -- combined (combined input, output images to use for Pix2Pix training)\n",
    "        -- train\n",
    "        -- test\n",
    "        -- val\n",
    "  ```"
   ],
   "id": "18fb556a7b9a122b"
  },
  {
   "metadata": {},
   "cell_type": "markdown",
   "source": [
    "### Data content example\n",
    "\n",
    "Model B converts images from front facing to right facing\n",
    "\n",
    "- `input` data folder in `model_b_data` contains front facing images\n",
    "- `output` data folder in `model_b_data` contains right facing images\n",
    "- `combined` data folder in `model_b_data` contains combined input, output images used by Pix2Pix model"
   ],
   "id": "2fa8c4f8ed021701"
  },
  {
   "metadata": {
    "ExecuteTime": {
     "end_time": "2024-07-20T23:00:29.681028Z",
     "start_time": "2024-07-20T23:00:29.665018Z"
    }
   },
   "cell_type": "code",
   "source": [
    "# For loops to create 'input' and 'output' data folders in the\n",
    "    # 'model_b_data', 'model_c_data', 'model_d_data' directories\n",
    "for model_directory in [core.B1.prepared_data_dir, core.C1.prepared_data_dir, core.D1.prepared_data_dir]:\n",
    "    for subdirectory in ['input', 'output']:\n",
    "        os.makedirs(core.get_path(model_directory, subdirectory), exist_ok=True)"
   ],
   "id": "bb79e77d9afb7cbc",
   "outputs": [],
   "execution_count": 2
  },
  {
   "metadata": {},
   "cell_type": "markdown",
   "source": [
    "### input, output files for models\n",
    "\n",
    "- Model B\n",
    "    - `input` files for model_b_data are in FRONT_FOLDER (folder 2)\n",
    "    - `output` files for model_b_data are in RIGHT_FOLDER (folder 3)\n",
    "\n",
    "- Model C\n",
    "    - `input` files for model_c_data are in FRONT_FOLDER (folder 2)\n",
    "    - `output` files for model_c_data are in BACK_FOLDER (folder 0)\n",
    "\n",
    "- Model D\n",
    "    - `input` files for model_d_data are in RIGHT_FOLDER (folder 3)\n",
    "    - `output` files for model_d_data are in LEFT_FOLDER (folder 1)"
   ],
   "id": "c0b754876f20dde2"
  },
  {
   "metadata": {
    "ExecuteTime": {
     "end_time": "2024-07-20T23:00:29.699707Z",
     "start_time": "2024-07-20T23:00:29.693602Z"
    }
   },
   "cell_type": "code",
   "source": [
    "def create_model_data(model_input_data_folder, model_output_data_folder, destination_directory):\n",
    "    \"\"\"\n",
    "    Function to create data for a directional model\n",
    "    :param model_input_data_folder: example: FRONT_FOLDER\n",
    "    :param model_output_data_folder: example: RIGHT_FOLDER\n",
    "    :param destination_directory: example: 'model_b_data'\n",
    "    \"\"\"\n",
    "    files = sorted(os.listdir(model_input_data_folder))\n",
    "    file_count = len(files)\n",
    "    # from 0                - test_split_index  -->  train data\n",
    "    # from test_split_index - val_split_index   -->  test data\n",
    "    # from val_split_index  - end               -->  validation data\n",
    "    test_split_index = int(file_count * 0.79)\n",
    "    val_split_index = int(file_count * 0.9)\n",
    "    \n",
    "    # Create subdirectories for train, test, validation\n",
    "    for subdir in ['train', 'test', 'val']:\n",
    "        os.makedirs(os.path.join(destination_directory, \"input\", subdir), exist_ok=True)\n",
    "        os.makedirs(os.path.join(destination_directory, \"output\", subdir), exist_ok=True)\n",
    "        \n",
    "    # For loop to create data for models\n",
    "    for idx, file_name in enumerate(files):\n",
    "        # Select subdirectory for file based on index in for loop\n",
    "        subdir = \"train\"\n",
    "        if test_split_index < idx < val_split_index:\n",
    "            subdir = \"test\"\n",
    "        elif idx >= val_split_index:\n",
    "            subdir = \"val\"\n",
    "        \n",
    "        # File paths for 'input' folder files for model data folder\n",
    "        src_file_path_input = os.path.join(model_input_data_folder, file_name)\n",
    "        dest_file_path_input = os.path.join(destination_directory, 'input', subdir, file_name)\n",
    "        \n",
    "        # File paths for 'output' folder files for model data folder\n",
    "        src_file_path_output = os.path.join(model_output_data_folder, file_name)\n",
    "        dest_file_path_output = os.path.join(destination_directory, 'output', subdir, file_name)\n",
    "        \n",
    "        # Add magenta backgrounds to images before saving them\n",
    "        turn_magenta(src_file_path_input, dest_file_path_input)\n",
    "        turn_magenta(src_file_path_output, dest_file_path_output)\n"
   ],
   "id": "5aa6ebb1802a3a16",
   "outputs": [],
   "execution_count": 3
  },
  {
   "metadata": {
    "ExecuteTime": {
     "end_time": "2024-07-20T23:00:33.894348Z",
     "start_time": "2024-07-20T23:00:29.701134Z"
    }
   },
   "cell_type": "code",
   "source": [
    "# Creating data for model B\n",
    "create_model_data(FRONT_FOLDER, RIGHT_FOLDER, core.get_path(core.B1.prepared_data_dir))\n",
    "\n",
    "# Creating data for model C\n",
    "create_model_data(FRONT_FOLDER, BACK_FOLDER, core.get_path(core.C1.prepared_data_dir))\n",
    "\n",
    "# Creating data for model D\n",
    "create_model_data(RIGHT_FOLDER, LEFT_FOLDER, core.get_path(core.D1.prepared_data_dir))"
   ],
   "id": "15bc9b3b8db54cb9",
   "outputs": [],
   "execution_count": 4
  },
  {
   "metadata": {},
   "cell_type": "markdown",
   "source": "### Combine input, output data folders of a model to one folder so it can be used for Pix2Pix training",
   "id": "166acebef8c7c2e4"
  },
  {
   "metadata": {
    "ExecuteTime": {
     "end_time": "2024-07-20T23:00:33.898026Z",
     "start_time": "2024-07-20T23:00:33.896053Z"
    }
   },
   "cell_type": "code",
   "source": [
    "MODEL_B1_COMBINED = core.get_path(core.B1.prepared_data_dir, \"combined\")\n",
    "MODEL_C1_COMBINED = core.get_path(core.C1.prepared_data_dir, \"combined\")\n",
    "MODEL_D1_COMBINED = core.get_path(core.D1.prepared_data_dir, \"combined\")"
   ],
   "id": "d7850220f90690f9",
   "outputs": [],
   "execution_count": 5
  },
  {
   "metadata": {
    "ExecuteTime": {
     "end_time": "2024-07-20T23:00:34.463151Z",
     "start_time": "2024-07-20T23:00:33.898553Z"
    }
   },
   "cell_type": "code",
   "source": [
    "\n",
    "# Combined input, output data folders for model B\n",
    "os.makedirs(MODEL_B1_COMBINED, exist_ok=True)\n",
    "MODEL_B1_INPUT = core.get_path(core.B1.prepared_data_dir, \"input\")\n",
    "MODEL_B1_OUTPUT = core.get_path(core.B1.prepared_data_dir, \"output\")\n",
    "core.create_combined_images(f\"--fold_A {MODEL_B1_INPUT} --fold_B {MODEL_B1_OUTPUT} --fold_AB {MODEL_B1_COMBINED} --no_multiprocessing\")"
   ],
   "id": "dc1fad61ddefe4e",
   "outputs": [
    {
     "name": "stdout",
     "output_type": "stream",
     "text": [
      "----------------------------------------------------------\n",
      "python /Users/tashvit/Documents/GitHub/mmpixagen/thirdparty/pix2pix/datasets/combine_A_and_B.py --fold_A /Users/tashvit/Documents/GitHub/mmpixagen/datasets/model_b_data/input/ --fold_B /Users/tashvit/Documents/GitHub/mmpixagen/datasets/model_b_data/output/ --fold_AB /Users/tashvit/Documents/GitHub/mmpixagen/datasets/model_b_data/combined --no_multiprocessing\n",
      "[fold_A] =  /Users/tashvit/Documents/GitHub/mmpixagen/datasets/model_b_data/input/\n",
      "[fold_B] =  /Users/tashvit/Documents/GitHub/mmpixagen/datasets/model_b_data/output/\n",
      "[fold_AB] =  /Users/tashvit/Documents/GitHub/mmpixagen/datasets/model_b_data/combined\n",
      "[num_imgs] =  1000000\n",
      "[use_AB] =  False\n",
      "[no_multiprocessing] =  True\n",
      "split = test, use 99/99 images\n",
      "split = test, number of images = 99\n",
      "split = train, use 721/721 images\n",
      "split = train, number of images = 721\n",
      "split = val, use 92/92 images\n",
      "split = val, number of images = 92\n"
     ]
    }
   ],
   "execution_count": 6
  },
  {
   "metadata": {
    "ExecuteTime": {
     "end_time": "2024-07-20T23:00:35.045012Z",
     "start_time": "2024-07-20T23:00:34.463987Z"
    }
   },
   "cell_type": "code",
   "source": [
    "\n",
    "# Combined input, output data folders for model C\n",
    "os.makedirs(MODEL_C1_COMBINED, exist_ok=True)\n",
    "MODEL_C1_INPUT = core.get_path(core.C1.prepared_data_dir, \"input\")\n",
    "MODEL_C1_OUTPUT = core.get_path(core.C1.prepared_data_dir, \"output\")\n",
    "core.create_combined_images(f\"--fold_A {MODEL_C1_INPUT} --fold_B {MODEL_C1_OUTPUT} --fold_AB {MODEL_C1_COMBINED} --no_multiprocessing\")"
   ],
   "id": "c050cd0c34b64f12",
   "outputs": [
    {
     "name": "stdout",
     "output_type": "stream",
     "text": [
      "----------------------------------------------------------\n",
      "python /Users/tashvit/Documents/GitHub/mmpixagen/thirdparty/pix2pix/datasets/combine_A_and_B.py --fold_A /Users/tashvit/Documents/GitHub/mmpixagen/datasets/model_c_data/input/ --fold_B /Users/tashvit/Documents/GitHub/mmpixagen/datasets/model_c_data/output/ --fold_AB /Users/tashvit/Documents/GitHub/mmpixagen/datasets/model_c_data/combined --no_multiprocessing\n",
      "[fold_A] =  /Users/tashvit/Documents/GitHub/mmpixagen/datasets/model_c_data/input/\n",
      "[fold_B] =  /Users/tashvit/Documents/GitHub/mmpixagen/datasets/model_c_data/output/\n",
      "[fold_AB] =  /Users/tashvit/Documents/GitHub/mmpixagen/datasets/model_c_data/combined\n",
      "[num_imgs] =  1000000\n",
      "[use_AB] =  False\n",
      "[no_multiprocessing] =  True\n",
      "split = test, use 99/99 images\n",
      "split = test, number of images = 99\n",
      "split = train, use 721/721 images\n",
      "split = train, number of images = 721\n",
      "split = val, use 92/92 images\n",
      "split = val, number of images = 92\n"
     ]
    }
   ],
   "execution_count": 7
  },
  {
   "metadata": {
    "ExecuteTime": {
     "end_time": "2024-07-20T23:00:35.569830Z",
     "start_time": "2024-07-20T23:00:35.045750Z"
    }
   },
   "cell_type": "code",
   "source": [
    "\n",
    "# Combined input, output data folders for model D\n",
    "os.makedirs(MODEL_D1_COMBINED, exist_ok=True)\n",
    "MODEL_D1_INPUT = core.get_path(core.D1.prepared_data_dir, \"input\")\n",
    "MODEL_D1_OUTPUT = core.get_path(core.D1.prepared_data_dir, \"output\")\n",
    "core.create_combined_images(f\"--fold_A {MODEL_D1_INPUT} --fold_B {MODEL_D1_OUTPUT} --fold_AB {MODEL_D1_COMBINED} --no_multiprocessing\")"
   ],
   "id": "b8cd677ceb907a0",
   "outputs": [
    {
     "name": "stdout",
     "output_type": "stream",
     "text": [
      "----------------------------------------------------------\n",
      "python /Users/tashvit/Documents/GitHub/mmpixagen/thirdparty/pix2pix/datasets/combine_A_and_B.py --fold_A /Users/tashvit/Documents/GitHub/mmpixagen/datasets/model_d_data/input/ --fold_B /Users/tashvit/Documents/GitHub/mmpixagen/datasets/model_d_data/output/ --fold_AB /Users/tashvit/Documents/GitHub/mmpixagen/datasets/model_d_data/combined --no_multiprocessing\n",
      "[fold_A] =  /Users/tashvit/Documents/GitHub/mmpixagen/datasets/model_d_data/input/\n",
      "[fold_B] =  /Users/tashvit/Documents/GitHub/mmpixagen/datasets/model_d_data/output/\n",
      "[fold_AB] =  /Users/tashvit/Documents/GitHub/mmpixagen/datasets/model_d_data/combined\n",
      "[num_imgs] =  1000000\n",
      "[use_AB] =  False\n",
      "[no_multiprocessing] =  True\n",
      "split = test, use 99/99 images\n",
      "split = test, number of images = 99\n",
      "split = train, use 721/721 images\n",
      "split = train, number of images = 721\n",
      "split = val, use 92/92 images\n",
      "split = val, number of images = 92\n"
     ]
    }
   ],
   "execution_count": 8
  },
  {
   "metadata": {
    "ExecuteTime": {
     "end_time": "2024-07-20T23:00:35.571720Z",
     "start_time": "2024-07-20T23:00:35.570439Z"
    }
   },
   "cell_type": "code",
   "source": "",
   "id": "dd418f47bccfd68c",
   "outputs": [],
   "execution_count": 8
  }
 ],
 "metadata": {
  "kernelspec": {
   "display_name": "Python 3",
   "language": "python",
   "name": "python3"
  },
  "language_info": {
   "codemirror_mode": {
    "name": "ipython",
    "version": 2
   },
   "file_extension": ".py",
   "mimetype": "text/x-python",
   "name": "python",
   "nbconvert_exporter": "python",
   "pygments_lexer": "ipython2",
   "version": "2.7.6"
  }
 },
 "nbformat": 4,
 "nbformat_minor": 5
}
